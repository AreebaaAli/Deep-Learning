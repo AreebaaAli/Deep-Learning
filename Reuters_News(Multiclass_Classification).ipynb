{
  "nbformat": 4,
  "nbformat_minor": 0,
  "metadata": {
    "colab": {
      "name": "Reuters News(Multiclass Classification).ipynb",
      "provenance": [],
      "collapsed_sections": [],
      "authorship_tag": "ABX9TyMkdF0YHpZdOg+CNoZ1DglF"
    },
    "kernelspec": {
      "name": "python3",
      "display_name": "Python 3"
    }
  },
  "cells": [
    {
      "cell_type": "code",
      "metadata": {
        "id": "XmQqmRai0K4N",
        "colab_type": "code",
        "outputId": "1152e41f-4578-43f8-fa8f-cc6810620cba",
        "colab": {
          "base_uri": "https://localhost:8080/",
          "height": 927
        }
      },
      "source": [
        "!pip install tensorflow --upgrade"
      ],
      "execution_count": 0,
      "outputs": [
        {
          "output_type": "stream",
          "text": [
            "Collecting tensorflow\n",
            "\u001b[?25l  Downloading https://files.pythonhosted.org/packages/85/d4/c0cd1057b331bc38b65478302114194bd8e1b9c2bbc06e300935c0e93d90/tensorflow-2.1.0-cp36-cp36m-manylinux2010_x86_64.whl (421.8MB)\n",
            "\u001b[K     |████████████████████████████████| 421.8MB 35kB/s \n",
            "\u001b[?25hRequirement already satisfied, skipping upgrade: gast==0.2.2 in /usr/local/lib/python3.6/dist-packages (from tensorflow) (0.2.2)\n",
            "Requirement already satisfied, skipping upgrade: wheel>=0.26; python_version >= \"3\" in /usr/local/lib/python3.6/dist-packages (from tensorflow) (0.34.2)\n",
            "Requirement already satisfied, skipping upgrade: scipy==1.4.1; python_version >= \"3\" in /usr/local/lib/python3.6/dist-packages (from tensorflow) (1.4.1)\n",
            "Collecting tensorflow-estimator<2.2.0,>=2.1.0rc0\n",
            "\u001b[?25l  Downloading https://files.pythonhosted.org/packages/18/90/b77c328a1304437ab1310b463e533fa7689f4bfc41549593056d812fab8e/tensorflow_estimator-2.1.0-py2.py3-none-any.whl (448kB)\n",
            "\u001b[K     |████████████████████████████████| 450kB 56.2MB/s \n",
            "\u001b[?25hRequirement already satisfied, skipping upgrade: astor>=0.6.0 in /usr/local/lib/python3.6/dist-packages (from tensorflow) (0.8.1)\n",
            "Requirement already satisfied, skipping upgrade: numpy<2.0,>=1.16.0 in /usr/local/lib/python3.6/dist-packages (from tensorflow) (1.18.2)\n",
            "Requirement already satisfied, skipping upgrade: keras-preprocessing>=1.1.0 in /usr/local/lib/python3.6/dist-packages (from tensorflow) (1.1.0)\n",
            "Requirement already satisfied, skipping upgrade: grpcio>=1.8.6 in /usr/local/lib/python3.6/dist-packages (from tensorflow) (1.24.3)\n",
            "Requirement already satisfied, skipping upgrade: opt-einsum>=2.3.2 in /usr/local/lib/python3.6/dist-packages (from tensorflow) (3.2.0)\n",
            "Requirement already satisfied, skipping upgrade: keras-applications>=1.0.8 in /usr/local/lib/python3.6/dist-packages (from tensorflow) (1.0.8)\n",
            "Collecting tensorboard<2.2.0,>=2.1.0\n",
            "\u001b[?25l  Downloading https://files.pythonhosted.org/packages/d9/41/bbf49b61370e4f4d245d4c6051dfb6db80cec672605c91b1652ac8cc3d38/tensorboard-2.1.1-py3-none-any.whl (3.8MB)\n",
            "\u001b[K     |████████████████████████████████| 3.9MB 60.2MB/s \n",
            "\u001b[?25hRequirement already satisfied, skipping upgrade: termcolor>=1.1.0 in /usr/local/lib/python3.6/dist-packages (from tensorflow) (1.1.0)\n",
            "Requirement already satisfied, skipping upgrade: wrapt>=1.11.1 in /usr/local/lib/python3.6/dist-packages (from tensorflow) (1.12.1)\n",
            "Requirement already satisfied, skipping upgrade: google-pasta>=0.1.6 in /usr/local/lib/python3.6/dist-packages (from tensorflow) (0.2.0)\n",
            "Requirement already satisfied, skipping upgrade: six>=1.12.0 in /usr/local/lib/python3.6/dist-packages (from tensorflow) (1.12.0)\n",
            "Requirement already satisfied, skipping upgrade: absl-py>=0.7.0 in /usr/local/lib/python3.6/dist-packages (from tensorflow) (0.9.0)\n",
            "Requirement already satisfied, skipping upgrade: protobuf>=3.8.0 in /usr/local/lib/python3.6/dist-packages (from tensorflow) (3.10.0)\n",
            "Requirement already satisfied, skipping upgrade: h5py in /usr/local/lib/python3.6/dist-packages (from keras-applications>=1.0.8->tensorflow) (2.8.0)\n",
            "Requirement already satisfied, skipping upgrade: setuptools>=41.0.0 in /usr/local/lib/python3.6/dist-packages (from tensorboard<2.2.0,>=2.1.0->tensorflow) (46.0.0)\n",
            "Requirement already satisfied, skipping upgrade: google-auth-oauthlib<0.5,>=0.4.1 in /usr/local/lib/python3.6/dist-packages (from tensorboard<2.2.0,>=2.1.0->tensorflow) (0.4.1)\n",
            "Requirement already satisfied, skipping upgrade: google-auth<2,>=1.6.3 in /usr/local/lib/python3.6/dist-packages (from tensorboard<2.2.0,>=2.1.0->tensorflow) (1.7.2)\n",
            "Requirement already satisfied, skipping upgrade: markdown>=2.6.8 in /usr/local/lib/python3.6/dist-packages (from tensorboard<2.2.0,>=2.1.0->tensorflow) (3.2.1)\n",
            "Requirement already satisfied, skipping upgrade: werkzeug>=0.11.15 in /usr/local/lib/python3.6/dist-packages (from tensorboard<2.2.0,>=2.1.0->tensorflow) (1.0.0)\n",
            "Requirement already satisfied, skipping upgrade: requests<3,>=2.21.0 in /usr/local/lib/python3.6/dist-packages (from tensorboard<2.2.0,>=2.1.0->tensorflow) (2.21.0)\n",
            "Requirement already satisfied, skipping upgrade: requests-oauthlib>=0.7.0 in /usr/local/lib/python3.6/dist-packages (from google-auth-oauthlib<0.5,>=0.4.1->tensorboard<2.2.0,>=2.1.0->tensorflow) (1.3.0)\n",
            "Requirement already satisfied, skipping upgrade: cachetools<3.2,>=2.0.0 in /usr/local/lib/python3.6/dist-packages (from google-auth<2,>=1.6.3->tensorboard<2.2.0,>=2.1.0->tensorflow) (3.1.1)\n",
            "Requirement already satisfied, skipping upgrade: pyasn1-modules>=0.2.1 in /usr/local/lib/python3.6/dist-packages (from google-auth<2,>=1.6.3->tensorboard<2.2.0,>=2.1.0->tensorflow) (0.2.8)\n",
            "Requirement already satisfied, skipping upgrade: rsa<4.1,>=3.1.4 in /usr/local/lib/python3.6/dist-packages (from google-auth<2,>=1.6.3->tensorboard<2.2.0,>=2.1.0->tensorflow) (4.0)\n",
            "Requirement already satisfied, skipping upgrade: certifi>=2017.4.17 in /usr/local/lib/python3.6/dist-packages (from requests<3,>=2.21.0->tensorboard<2.2.0,>=2.1.0->tensorflow) (2019.11.28)\n",
            "Requirement already satisfied, skipping upgrade: idna<2.9,>=2.5 in /usr/local/lib/python3.6/dist-packages (from requests<3,>=2.21.0->tensorboard<2.2.0,>=2.1.0->tensorflow) (2.8)\n",
            "Requirement already satisfied, skipping upgrade: urllib3<1.25,>=1.21.1 in /usr/local/lib/python3.6/dist-packages (from requests<3,>=2.21.0->tensorboard<2.2.0,>=2.1.0->tensorflow) (1.24.3)\n",
            "Requirement already satisfied, skipping upgrade: chardet<3.1.0,>=3.0.2 in /usr/local/lib/python3.6/dist-packages (from requests<3,>=2.21.0->tensorboard<2.2.0,>=2.1.0->tensorflow) (3.0.4)\n",
            "Requirement already satisfied, skipping upgrade: oauthlib>=3.0.0 in /usr/local/lib/python3.6/dist-packages (from requests-oauthlib>=0.7.0->google-auth-oauthlib<0.5,>=0.4.1->tensorboard<2.2.0,>=2.1.0->tensorflow) (3.1.0)\n",
            "Requirement already satisfied, skipping upgrade: pyasn1<0.5.0,>=0.4.6 in /usr/local/lib/python3.6/dist-packages (from pyasn1-modules>=0.2.1->google-auth<2,>=1.6.3->tensorboard<2.2.0,>=2.1.0->tensorflow) (0.4.8)\n",
            "\u001b[31mERROR: tensorflow-federated 0.12.0 has requirement tensorflow-addons~=0.7.0, but you'll have tensorflow-addons 0.8.3 which is incompatible.\u001b[0m\n",
            "Installing collected packages: tensorflow-estimator, tensorboard, tensorflow\n",
            "  Found existing installation: tensorflow-estimator 1.15.1\n",
            "    Uninstalling tensorflow-estimator-1.15.1:\n",
            "      Successfully uninstalled tensorflow-estimator-1.15.1\n",
            "  Found existing installation: tensorboard 1.15.0\n",
            "    Uninstalling tensorboard-1.15.0:\n",
            "      Successfully uninstalled tensorboard-1.15.0\n",
            "  Found existing installation: tensorflow 1.15.0\n",
            "    Uninstalling tensorflow-1.15.0:\n",
            "      Successfully uninstalled tensorflow-1.15.0\n",
            "Successfully installed tensorboard-2.1.1 tensorflow-2.1.0 tensorflow-estimator-2.1.0\n"
          ],
          "name": "stdout"
        }
      ]
    },
    {
      "cell_type": "code",
      "metadata": {
        "id": "NxVFyJ9g1fbl",
        "colab_type": "code",
        "colab": {}
      },
      "source": [
        "import tensorflow as tf\n",
        "from tensorflow.keras.datasets import reuters\n",
        "from tensorflow.keras import layers,optimizers,models,utils\n",
        "import numpy as np\n",
        "import matplotlib.pyplot as plt"
      ],
      "execution_count": 0,
      "outputs": []
    },
    {
      "cell_type": "code",
      "metadata": {
        "id": "ObZfEg-Z8fDs",
        "colab_type": "code",
        "outputId": "e075847d-e089-4fc3-e41d-11f19ea8b481",
        "colab": {
          "base_uri": "https://localhost:8080/",
          "height": 50
        }
      },
      "source": [
        "(train_data, train_labels), (test_data, test_labels) = reuters.load_data(num_words=10000)"
      ],
      "execution_count": 0,
      "outputs": [
        {
          "output_type": "stream",
          "text": [
            "Downloading data from https://storage.googleapis.com/tensorflow/tf-keras-datasets/reuters.npz\n",
            "2113536/2110848 [==============================] - 0s 0us/step\n"
          ],
          "name": "stdout"
        }
      ]
    },
    {
      "cell_type": "code",
      "metadata": {
        "id": "t_M5l7Kcpi2N",
        "colab_type": "code",
        "outputId": "0f58392f-b710-44ea-d277-dcc0a67486ab",
        "colab": {
          "base_uri": "https://localhost:8080/",
          "height": 50
        }
      },
      "source": [
        "print('Train Data:', len(train_data))\n",
        "print('Test Data:', len(test_data))"
      ],
      "execution_count": 0,
      "outputs": [
        {
          "output_type": "stream",
          "text": [
            "Train Data: 8982\n",
            "Test Data: 2246\n"
          ],
          "name": "stdout"
        }
      ]
    },
    {
      "cell_type": "code",
      "metadata": {
        "id": "62HBwazgrxuh",
        "colab_type": "code",
        "outputId": "a8c27c92-fbfb-49fa-ac0e-80711aa70ecf",
        "colab": {
          "base_uri": "https://localhost:8080/",
          "height": 70
        }
      },
      "source": [
        "print(train_data[0])\n",
        "print(train_labels[0])"
      ],
      "execution_count": 0,
      "outputs": [
        {
          "output_type": "stream",
          "text": [
            "[1, 2, 2, 8, 43, 10, 447, 5, 25, 207, 270, 5, 3095, 111, 16, 369, 186, 90, 67, 7, 89, 5, 19, 102, 6, 19, 124, 15, 90, 67, 84, 22, 482, 26, 7, 48, 4, 49, 8, 864, 39, 209, 154, 6, 151, 6, 83, 11, 15, 22, 155, 11, 15, 7, 48, 9, 4579, 1005, 504, 6, 258, 6, 272, 11, 15, 22, 134, 44, 11, 15, 16, 8, 197, 1245, 90, 67, 52, 29, 209, 30, 32, 132, 6, 109, 15, 17, 12]\n",
            "3\n"
          ],
          "name": "stdout"
        }
      ]
    },
    {
      "cell_type": "code",
      "metadata": {
        "id": "BNaHhYHEr4CT",
        "colab_type": "code",
        "colab": {}
      },
      "source": [
        "def vectorize_sequence(sequence, dimensions=10000):\n",
        "    result = np.zeros((len(sequence),dimensions))\n",
        "    for i,sequence in enumerate(sequence):\n",
        "        result[i,sequence] = 1\n",
        "    return result"
      ],
      "execution_count": 0,
      "outputs": []
    },
    {
      "cell_type": "code",
      "metadata": {
        "id": "l-TSRyTgr_18",
        "colab_type": "code",
        "colab": {}
      },
      "source": [
        "x_train= vectorize_sequence(train_data)\n",
        "x_test= vectorize_sequence(test_data)"
      ],
      "execution_count": 0,
      "outputs": []
    },
    {
      "cell_type": "code",
      "metadata": {
        "id": "lxBhM3dzsLQI",
        "colab_type": "code",
        "colab": {}
      },
      "source": [
        "y_train = utils.to_categorical(train_labels)\n",
        "y_test = utils.to_categorical(test_labels)"
      ],
      "execution_count": 0,
      "outputs": []
    },
    {
      "cell_type": "code",
      "metadata": {
        "id": "WqYr3PAasfgN",
        "colab_type": "code",
        "colab": {}
      },
      "source": [
        "model=models.Sequential()\n",
        "model.add(layers.Dense(64, activation='relu', input_shape=(10000,)))\n",
        "model.add(layers.Dense(64, activation='relu'))\n",
        "model.add(layers.Dense(46, activation='softmax'))"
      ],
      "execution_count": 0,
      "outputs": []
    },
    {
      "cell_type": "code",
      "metadata": {
        "id": "JJIKu6kQskUO",
        "colab_type": "code",
        "colab": {}
      },
      "source": [
        "model.compile(optimizer='rmsprop',\n",
        "              loss='categorical_crossentropy',\n",
        "              metrics=['accuracy']   \n",
        ")"
      ],
      "execution_count": 0,
      "outputs": []
    },
    {
      "cell_type": "code",
      "metadata": {
        "id": "RvBMNFrstyy5",
        "colab_type": "code",
        "colab": {}
      },
      "source": [
        "x_valid = x_train[:1000]\n",
        "partial_x_train = x_train[1000:]\n",
        "y_valid = y_train[:1000]\n",
        "partial_y_train = y_train[1000:]"
      ],
      "execution_count": 0,
      "outputs": []
    },
    {
      "cell_type": "code",
      "metadata": {
        "id": "cu3IjqlOuLex",
        "colab_type": "code",
        "outputId": "ad0e482c-1279-445a-dd83-7a7098773e31",
        "colab": {
          "base_uri": "https://localhost:8080/",
          "height": 706
        }
      },
      "source": [
        "history=model.fit(partial_x_train, partial_y_train,epochs=20, batch_size=512, validation_data=(x_valid,y_valid))"
      ],
      "execution_count": 0,
      "outputs": [
        {
          "output_type": "stream",
          "text": [
            "Train on 7982 samples, validate on 1000 samples\n",
            "Epoch 1/20\n",
            "7982/7982 [==============================] - 2s 195us/sample - loss: 2.5713 - accuracy: 0.5482 - val_loss: 1.6848 - val_accuracy: 0.6680\n",
            "Epoch 2/20\n",
            "7982/7982 [==============================] - 1s 123us/sample - loss: 1.3790 - accuracy: 0.7276 - val_loss: 1.2606 - val_accuracy: 0.7320\n",
            "Epoch 3/20\n",
            "7982/7982 [==============================] - 1s 119us/sample - loss: 1.0238 - accuracy: 0.7828 - val_loss: 1.0931 - val_accuracy: 0.7560\n",
            "Epoch 4/20\n",
            "7982/7982 [==============================] - 1s 121us/sample - loss: 0.8024 - accuracy: 0.8249 - val_loss: 0.9839 - val_accuracy: 0.7820\n",
            "Epoch 5/20\n",
            "7982/7982 [==============================] - 1s 121us/sample - loss: 0.6342 - accuracy: 0.8662 - val_loss: 0.9287 - val_accuracy: 0.8010\n",
            "Epoch 6/20\n",
            "7982/7982 [==============================] - 1s 119us/sample - loss: 0.5026 - accuracy: 0.8949 - val_loss: 0.8895 - val_accuracy: 0.8120\n",
            "Epoch 7/20\n",
            "7982/7982 [==============================] - 1s 125us/sample - loss: 0.4042 - accuracy: 0.9161 - val_loss: 0.8911 - val_accuracy: 0.8070\n",
            "Epoch 8/20\n",
            "7982/7982 [==============================] - 1s 120us/sample - loss: 0.3276 - accuracy: 0.9313 - val_loss: 0.8905 - val_accuracy: 0.8130\n",
            "Epoch 9/20\n",
            "7982/7982 [==============================] - 1s 121us/sample - loss: 0.2708 - accuracy: 0.9401 - val_loss: 0.8787 - val_accuracy: 0.8140\n",
            "Epoch 10/20\n",
            "7982/7982 [==============================] - 1s 123us/sample - loss: 0.2307 - accuracy: 0.9470 - val_loss: 0.8756 - val_accuracy: 0.8130\n",
            "Epoch 11/20\n",
            "7982/7982 [==============================] - 1s 123us/sample - loss: 0.2016 - accuracy: 0.9483 - val_loss: 0.9261 - val_accuracy: 0.8070\n",
            "Epoch 12/20\n",
            "7982/7982 [==============================] - 1s 119us/sample - loss: 0.1760 - accuracy: 0.9509 - val_loss: 0.9314 - val_accuracy: 0.8140\n",
            "Epoch 13/20\n",
            "7982/7982 [==============================] - 1s 121us/sample - loss: 0.1587 - accuracy: 0.9529 - val_loss: 0.9390 - val_accuracy: 0.8130\n",
            "Epoch 14/20\n",
            "7982/7982 [==============================] - 1s 121us/sample - loss: 0.1447 - accuracy: 0.9553 - val_loss: 0.9215 - val_accuracy: 0.8180\n",
            "Epoch 15/20\n",
            "7982/7982 [==============================] - 1s 123us/sample - loss: 0.1369 - accuracy: 0.9554 - val_loss: 0.9758 - val_accuracy: 0.8100\n",
            "Epoch 16/20\n",
            "7982/7982 [==============================] - 1s 121us/sample - loss: 0.1319 - accuracy: 0.9565 - val_loss: 1.0613 - val_accuracy: 0.7970\n",
            "Epoch 17/20\n",
            "7982/7982 [==============================] - 1s 123us/sample - loss: 0.1258 - accuracy: 0.9565 - val_loss: 1.0743 - val_accuracy: 0.7870\n",
            "Epoch 18/20\n",
            "7982/7982 [==============================] - 1s 120us/sample - loss: 0.1188 - accuracy: 0.9564 - val_loss: 1.0076 - val_accuracy: 0.8140\n",
            "Epoch 19/20\n",
            "7982/7982 [==============================] - 1s 122us/sample - loss: 0.1134 - accuracy: 0.9577 - val_loss: 1.0875 - val_accuracy: 0.7950\n",
            "Epoch 20/20\n",
            "7982/7982 [==============================] - 1s 121us/sample - loss: 0.1144 - accuracy: 0.9580 - val_loss: 1.0577 - val_accuracy: 0.7980\n"
          ],
          "name": "stdout"
        }
      ]
    },
    {
      "cell_type": "code",
      "metadata": {
        "id": "4VuhddLQuX8h",
        "colab_type": "code",
        "outputId": "6ae21a85-c7b8-4b9c-f874-f11a7a5cc2e8",
        "colab": {
          "base_uri": "https://localhost:8080/",
          "height": 54
        }
      },
      "source": [
        "history_dict=history.history\n",
        "print(history_dict)"
      ],
      "execution_count": 0,
      "outputs": [
        {
          "output_type": "stream",
          "text": [
            "{'loss': [2.5712779053647665, 1.3789684802360984, 1.0237826609247103, 0.8023546675905731, 0.6341583443834978, 0.5025589554060733, 0.40420849949487375, 0.3275600752565264, 0.27083135157472593, 0.23069883911002104, 0.2016062615390291, 0.17603153598559468, 0.15874284317292717, 0.14470999783679256, 0.13688483724869513, 0.13188164180321552, 0.12578830563149873, 0.11882226147080567, 0.11344284143282996, 0.11438151749713892], 'accuracy': [0.5482335, 0.7276372, 0.7827612, 0.8248559, 0.86619896, 0.8948885, 0.91606116, 0.9313455, 0.9401153, 0.94700575, 0.9482586, 0.9508895, 0.95289403, 0.95527434, 0.95539963, 0.9565272, 0.9565272, 0.9564019, 0.9576547, 0.9580306], 'val_loss': [1.6847880668640136, 1.2605720109939575, 1.0930580825805665, 0.9838962984085083, 0.9287057824134827, 0.889511878490448, 0.891102306842804, 0.8904810485839844, 0.8787175498008728, 0.8756257333755493, 0.9261338090896607, 0.9314083733558655, 0.9390015325546265, 0.9215321722030639, 0.975849398612976, 1.0612868919372558, 1.0742898836135863, 1.0076309719085694, 1.087517560005188, 1.0576602754592896], 'val_accuracy': [0.668, 0.732, 0.756, 0.782, 0.801, 0.812, 0.807, 0.813, 0.814, 0.813, 0.807, 0.814, 0.813, 0.818, 0.81, 0.797, 0.787, 0.814, 0.795, 0.798]}\n"
          ],
          "name": "stdout"
        }
      ]
    },
    {
      "cell_type": "code",
      "metadata": {
        "id": "sQ2wzkZGu21Y",
        "colab_type": "code",
        "outputId": "318d148f-59ae-4324-a490-dde93ecadf15",
        "colab": {
          "base_uri": "https://localhost:8080/",
          "height": 559
        }
      },
      "source": [
        "loss = history.history['loss']\n",
        "val_loss = history.history['val_loss']\n",
        "accuracy = history_dict['accuracy']\n",
        "val_accuracy = history_dict['val_accuracy']\n",
        "\n",
        "epochs = range(1, len(loss) + 1)\n",
        "\n",
        "plt.plot(epochs, loss, 'bo', label='Training loss')\n",
        "plt.plot(epochs, val_loss, 'b', label='Validation loss')\n",
        "plt.title('Training and validation loss')\n",
        "plt.xlabel('Epochs')\n",
        "plt.ylabel('Loss')\n",
        "plt.legend()\n",
        "plt.show()\n",
        "plt.clf()\n",
        "\n",
        "plt.plot(epochs, accuracy, 'bo', label='Training Accuracy')\n",
        "plt.plot(epochs, val_accuracy, 'b', label='Validation Accuracy')\n",
        "plt.title('Training and validation accuracy')\n",
        "plt.legend()\n",
        "plt.show()"
      ],
      "execution_count": 0,
      "outputs": [
        {
          "output_type": "display_data",
          "data": {
            "image/png": "[encoded data removed]",
            "text/plain": [
              "<Figure size 432x288 with 1 Axes>"
            ]
          },
          "metadata": {
            "tags": []
          }
        },
        {
          "output_type": "display_data",
          "data": {
            "image/png": "[encoded data removed]",
            "text/plain": [
              "<Figure size 432x288 with 1 Axes>"
            ]
          },
          "metadata": {
            "tags": []
          }
        }
      ]
    },
    {
      "cell_type": "code",
      "metadata": {
        "id": "U9glHFBpDCax",
        "colab_type": "code",
        "colab": {}
      },
      "source": [
        "predictions= model.predict(x_test)"
      ],
      "execution_count": 0,
      "outputs": []
    },
    {
      "cell_type": "code",
      "metadata": {
        "id": "5SgDmqCUu9bB",
        "colab_type": "code",
        "outputId": "e34679ef-20b8-4ee7-809d-73f0f543cef4",
        "colab": {
          "base_uri": "https://localhost:8080/",
          "height": 34
        }
      },
      "source": [
        "predictions.shape"
      ],
      "execution_count": 0,
      "outputs": [
        {
          "output_type": "execute_result",
          "data": {
            "text/plain": [
              "(2246, 46)"
            ]
          },
          "metadata": {
            "tags": []
          },
          "execution_count": 16
        }
      ]
    },
    {
      "cell_type": "code",
      "metadata": {
        "id": "IRR9jPetDOcn",
        "colab_type": "code",
        "outputId": "24016d2c-f56a-4f0d-f4e2-df82409a47ae",
        "colab": {
          "base_uri": "https://localhost:8080/",
          "height": 34
        }
      },
      "source": [
        "predictions[0].sum()"
      ],
      "execution_count": 0,
      "outputs": [
        {
          "output_type": "execute_result",
          "data": {
            "text/plain": [
              "1.0000001"
            ]
          },
          "metadata": {
            "tags": []
          },
          "execution_count": 18
        }
      ]
    },
    {
      "cell_type": "code",
      "metadata": {
        "id": "U9V4Nm2aElxn",
        "colab_type": "code",
        "outputId": "67d8df6c-65cc-451d-ebef-2a199c4ed167",
        "colab": {
          "base_uri": "https://localhost:8080/",
          "height": 34
        }
      },
      "source": [
        "predictions[0].argmax()"
      ],
      "execution_count": 0,
      "outputs": [
        {
          "output_type": "execute_result",
          "data": {
            "text/plain": [
              "3"
            ]
          },
          "metadata": {
            "tags": []
          },
          "execution_count": 19
        }
      ]
    }
  ]
}