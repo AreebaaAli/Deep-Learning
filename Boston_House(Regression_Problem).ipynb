{
  "nbformat": 4,
  "nbformat_minor": 0,
  "metadata": {
    "colab": {
      "name": "Boston House(Regression Problem).ipynb",
      "provenance": [],
      "collapsed_sections": [],
      "authorship_tag": "ABX9TyOZN77FElyaOK51yHNCxfO9"
    },
    "kernelspec": {
      "name": "python3",
      "display_name": "Python 3"
    }
  },
  "cells": [
    {
      "cell_type": "code",
      "metadata": {
        "id": "UlUVmI5xIE2Y",
        "colab_type": "code",
        "outputId": "c50d5077-e866-4010-9674-58a97d4d3f98",
        "colab": {
          "base_uri": "https://localhost:8080/",
          "height": 927
        }
      },
      "source": [
        "!pip install tensorflow --upgrade"
      ],
      "execution_count": 0,
      "outputs": [
        {
          "output_type": "stream",
          "text": [
            "Collecting tensorflow\n",
            "\u001b[?25l  Downloading https://files.pythonhosted.org/packages/85/d4/c0cd1057b331bc38b65478302114194bd8e1b9c2bbc06e300935c0e93d90/tensorflow-2.1.0-cp36-cp36m-manylinux2010_x86_64.whl (421.8MB)\n",
            "\u001b[K     |████████████████████████████████| 421.8MB 39kB/s \n",
            "\u001b[?25hRequirement already satisfied, skipping upgrade: keras-applications>=1.0.8 in /usr/local/lib/python3.6/dist-packages (from tensorflow) (1.0.8)\n",
            "Requirement already satisfied, skipping upgrade: opt-einsum>=2.3.2 in /usr/local/lib/python3.6/dist-packages (from tensorflow) (3.2.0)\n",
            "Requirement already satisfied, skipping upgrade: google-pasta>=0.1.6 in /usr/local/lib/python3.6/dist-packages (from tensorflow) (0.2.0)\n",
            "Requirement already satisfied, skipping upgrade: scipy==1.4.1; python_version >= \"3\" in /usr/local/lib/python3.6/dist-packages (from tensorflow) (1.4.1)\n",
            "Requirement already satisfied, skipping upgrade: termcolor>=1.1.0 in /usr/local/lib/python3.6/dist-packages (from tensorflow) (1.1.0)\n",
            "Requirement already satisfied, skipping upgrade: wheel>=0.26; python_version >= \"3\" in /usr/local/lib/python3.6/dist-packages (from tensorflow) (0.34.2)\n",
            "Requirement already satisfied, skipping upgrade: numpy<2.0,>=1.16.0 in /usr/local/lib/python3.6/dist-packages (from tensorflow) (1.18.2)\n",
            "Requirement already satisfied, skipping upgrade: absl-py>=0.7.0 in /usr/local/lib/python3.6/dist-packages (from tensorflow) (0.9.0)\n",
            "Requirement already satisfied, skipping upgrade: astor>=0.6.0 in /usr/local/lib/python3.6/dist-packages (from tensorflow) (0.8.1)\n",
            "Requirement already satisfied, skipping upgrade: keras-preprocessing>=1.1.0 in /usr/local/lib/python3.6/dist-packages (from tensorflow) (1.1.0)\n",
            "Collecting tensorflow-estimator<2.2.0,>=2.1.0rc0\n",
            "\u001b[?25l  Downloading https://files.pythonhosted.org/packages/18/90/b77c328a1304437ab1310b463e533fa7689f4bfc41549593056d812fab8e/tensorflow_estimator-2.1.0-py2.py3-none-any.whl (448kB)\n",
            "\u001b[K     |████████████████████████████████| 450kB 55.7MB/s \n",
            "\u001b[?25hCollecting tensorboard<2.2.0,>=2.1.0\n",
            "\u001b[?25l  Downloading https://files.pythonhosted.org/packages/d9/41/bbf49b61370e4f4d245d4c6051dfb6db80cec672605c91b1652ac8cc3d38/tensorboard-2.1.1-py3-none-any.whl (3.8MB)\n",
            "\u001b[K     |████████████████████████████████| 3.9MB 27.0MB/s \n",
            "\u001b[?25hRequirement already satisfied, skipping upgrade: six>=1.12.0 in /usr/local/lib/python3.6/dist-packages (from tensorflow) (1.12.0)\n",
            "Requirement already satisfied, skipping upgrade: protobuf>=3.8.0 in /usr/local/lib/python3.6/dist-packages (from tensorflow) (3.10.0)\n",
            "Requirement already satisfied, skipping upgrade: wrapt>=1.11.1 in /usr/local/lib/python3.6/dist-packages (from tensorflow) (1.12.1)\n",
            "Requirement already satisfied, skipping upgrade: grpcio>=1.8.6 in /usr/local/lib/python3.6/dist-packages (from tensorflow) (1.24.3)\n",
            "Requirement already satisfied, skipping upgrade: gast==0.2.2 in /usr/local/lib/python3.6/dist-packages (from tensorflow) (0.2.2)\n",
            "Requirement already satisfied, skipping upgrade: h5py in /usr/local/lib/python3.6/dist-packages (from keras-applications>=1.0.8->tensorflow) (2.8.0)\n",
            "Requirement already satisfied, skipping upgrade: werkzeug>=0.11.15 in /usr/local/lib/python3.6/dist-packages (from tensorboard<2.2.0,>=2.1.0->tensorflow) (1.0.0)\n",
            "Requirement already satisfied, skipping upgrade: requests<3,>=2.21.0 in /usr/local/lib/python3.6/dist-packages (from tensorboard<2.2.0,>=2.1.0->tensorflow) (2.21.0)\n",
            "Requirement already satisfied, skipping upgrade: setuptools>=41.0.0 in /usr/local/lib/python3.6/dist-packages (from tensorboard<2.2.0,>=2.1.0->tensorflow) (46.0.0)\n",
            "Requirement already satisfied, skipping upgrade: markdown>=2.6.8 in /usr/local/lib/python3.6/dist-packages (from tensorboard<2.2.0,>=2.1.0->tensorflow) (3.2.1)\n",
            "Requirement already satisfied, skipping upgrade: google-auth<2,>=1.6.3 in /usr/local/lib/python3.6/dist-packages (from tensorboard<2.2.0,>=2.1.0->tensorflow) (1.7.2)\n",
            "Requirement already satisfied, skipping upgrade: google-auth-oauthlib<0.5,>=0.4.1 in /usr/local/lib/python3.6/dist-packages (from tensorboard<2.2.0,>=2.1.0->tensorflow) (0.4.1)\n",
            "Requirement already satisfied, skipping upgrade: urllib3<1.25,>=1.21.1 in /usr/local/lib/python3.6/dist-packages (from requests<3,>=2.21.0->tensorboard<2.2.0,>=2.1.0->tensorflow) (1.24.3)\n",
            "Requirement already satisfied, skipping upgrade: idna<2.9,>=2.5 in /usr/local/lib/python3.6/dist-packages (from requests<3,>=2.21.0->tensorboard<2.2.0,>=2.1.0->tensorflow) (2.8)\n",
            "Requirement already satisfied, skipping upgrade: chardet<3.1.0,>=3.0.2 in /usr/local/lib/python3.6/dist-packages (from requests<3,>=2.21.0->tensorboard<2.2.0,>=2.1.0->tensorflow) (3.0.4)\n",
            "Requirement already satisfied, skipping upgrade: certifi>=2017.4.17 in /usr/local/lib/python3.6/dist-packages (from requests<3,>=2.21.0->tensorboard<2.2.0,>=2.1.0->tensorflow) (2019.11.28)\n",
            "Requirement already satisfied, skipping upgrade: rsa<4.1,>=3.1.4 in /usr/local/lib/python3.6/dist-packages (from google-auth<2,>=1.6.3->tensorboard<2.2.0,>=2.1.0->tensorflow) (4.0)\n",
            "Requirement already satisfied, skipping upgrade: pyasn1-modules>=0.2.1 in /usr/local/lib/python3.6/dist-packages (from google-auth<2,>=1.6.3->tensorboard<2.2.0,>=2.1.0->tensorflow) (0.2.8)\n",
            "Requirement already satisfied, skipping upgrade: cachetools<3.2,>=2.0.0 in /usr/local/lib/python3.6/dist-packages (from google-auth<2,>=1.6.3->tensorboard<2.2.0,>=2.1.0->tensorflow) (3.1.1)\n",
            "Requirement already satisfied, skipping upgrade: requests-oauthlib>=0.7.0 in /usr/local/lib/python3.6/dist-packages (from google-auth-oauthlib<0.5,>=0.4.1->tensorboard<2.2.0,>=2.1.0->tensorflow) (1.3.0)\n",
            "Requirement already satisfied, skipping upgrade: pyasn1>=0.1.3 in /usr/local/lib/python3.6/dist-packages (from rsa<4.1,>=3.1.4->google-auth<2,>=1.6.3->tensorboard<2.2.0,>=2.1.0->tensorflow) (0.4.8)\n",
            "Requirement already satisfied, skipping upgrade: oauthlib>=3.0.0 in /usr/local/lib/python3.6/dist-packages (from requests-oauthlib>=0.7.0->google-auth-oauthlib<0.5,>=0.4.1->tensorboard<2.2.0,>=2.1.0->tensorflow) (3.1.0)\n",
            "\u001b[31mERROR: tensorflow-federated 0.12.0 has requirement tensorflow-addons~=0.7.0, but you'll have tensorflow-addons 0.8.3 which is incompatible.\u001b[0m\n",
            "Installing collected packages: tensorflow-estimator, tensorboard, tensorflow\n",
            "  Found existing installation: tensorflow-estimator 1.15.1\n",
            "    Uninstalling tensorflow-estimator-1.15.1:\n",
            "      Successfully uninstalled tensorflow-estimator-1.15.1\n",
            "  Found existing installation: tensorboard 1.15.0\n",
            "    Uninstalling tensorboard-1.15.0:\n",
            "      Successfully uninstalled tensorboard-1.15.0\n",
            "  Found existing installation: tensorflow 1.15.0\n",
            "    Uninstalling tensorflow-1.15.0:\n",
            "      Successfully uninstalled tensorflow-1.15.0\n",
            "Successfully installed tensorboard-2.1.1 tensorflow-2.1.0 tensorflow-estimator-2.1.0\n"
          ],
          "name": "stdout"
        }
      ]
    },
    {
      "cell_type": "code",
      "metadata": {
        "id": "gtFV_kbzIPfu",
        "colab_type": "code",
        "colab": {}
      },
      "source": [
        "import tensorflow as tf\n",
        "from tensorflow.keras.datasets import boston_housing\n",
        "from tensorflow.keras import layers,models,optimizers,utils\n",
        "import numpy as np\n",
        "import matplotlib.pyplot as plt\n"
      ],
      "execution_count": 0,
      "outputs": []
    },
    {
      "cell_type": "code",
      "metadata": {
        "id": "AWU0jxSPPc6Y",
        "colab_type": "code",
        "outputId": "0134c618-febd-4d04-b4bf-797fc9f00a3e",
        "colab": {
          "base_uri": "https://localhost:8080/",
          "height": 571
        }
      },
      "source": [
        "(train_data, train_targets), (test_data,test_targets)=boston_housing.load_data()\n",
        "print(train_data.shape)\n",
        "print(test_data.shape)\n",
        "print(train_targets)"
      ],
      "execution_count": 0,
      "outputs": [
        {
          "output_type": "stream",
          "text": [
            "Downloading data from https://storage.googleapis.com/tensorflow/tf-keras-datasets/boston_housing.npz\n",
            "57344/57026 [==============================] - 0s 0us/step\n",
            "(404, 13)\n",
            "(102, 13)\n",
            "[15.2 42.3 50.  21.1 17.7 18.5 11.3 15.6 15.6 14.4 12.1 17.9 23.1 19.9\n",
            " 15.7  8.8 50.  22.5 24.1 27.5 10.9 30.8 32.9 24.  18.5 13.3 22.9 34.7\n",
            " 16.6 17.5 22.3 16.1 14.9 23.1 34.9 25.  13.9 13.1 20.4 20.  15.2 24.7\n",
            " 22.2 16.7 12.7 15.6 18.4 21.  30.1 15.1 18.7  9.6 31.5 24.8 19.1 22.\n",
            " 14.5 11.  32.  29.4 20.3 24.4 14.6 19.5 14.1 14.3 15.6 10.5  6.3 19.3\n",
            " 19.3 13.4 36.4 17.8 13.5 16.5  8.3 14.3 16.  13.4 28.6 43.5 20.2 22.\n",
            " 23.  20.7 12.5 48.5 14.6 13.4 23.7 50.  21.7 39.8 38.7 22.2 34.9 22.5\n",
            " 31.1 28.7 46.  41.7 21.  26.6 15.  24.4 13.3 21.2 11.7 21.7 19.4 50.\n",
            " 22.8 19.7 24.7 36.2 14.2 18.9 18.3 20.6 24.6 18.2  8.7 44.  10.4 13.2\n",
            " 21.2 37.  30.7 22.9 20.  19.3 31.7 32.  23.1 18.8 10.9 50.  19.6  5.\n",
            " 14.4 19.8 13.8 19.6 23.9 24.5 25.  19.9 17.2 24.6 13.5 26.6 21.4 11.9\n",
            " 22.6 19.6  8.5 23.7 23.1 22.4 20.5 23.6 18.4 35.2 23.1 27.9 20.6 23.7\n",
            " 28.  13.6 27.1 23.6 20.6 18.2 21.7 17.1  8.4 25.3 13.8 22.2 18.4 20.7\n",
            " 31.6 30.5 20.3  8.8 19.2 19.4 23.1 23.  14.8 48.8 22.6 33.4 21.1 13.6\n",
            " 32.2 13.1 23.4 18.9 23.9 11.8 23.3 22.8 19.6 16.7 13.4 22.2 20.4 21.8\n",
            " 26.4 14.9 24.1 23.8 12.3 29.1 21.  19.5 23.3 23.8 17.8 11.5 21.7 19.9\n",
            " 25.  33.4 28.5 21.4 24.3 27.5 33.1 16.2 23.3 48.3 22.9 22.8 13.1 12.7\n",
            " 22.6 15.  15.3 10.5 24.  18.5 21.7 19.5 33.2 23.2  5.  19.1 12.7 22.3\n",
            " 10.2 13.9 16.3 17.  20.1 29.9 17.2 37.3 45.4 17.8 23.2 29.  22.  18.\n",
            " 17.4 34.6 20.1 25.  15.6 24.8 28.2 21.2 21.4 23.8 31.  26.2 17.4 37.9\n",
            " 17.5 20.   8.3 23.9  8.4 13.8  7.2 11.7 17.1 21.6 50.  16.1 20.4 20.6\n",
            " 21.4 20.6 36.5  8.5 24.8 10.8 21.9 17.3 18.9 36.2 14.9 18.2 33.3 21.8\n",
            " 19.7 31.6 24.8 19.4 22.8  7.5 44.8 16.8 18.7 50.  50.  19.5 20.1 50.\n",
            " 17.2 20.8 19.3 41.3 20.4 20.5 13.8 16.5 23.9 20.6 31.5 23.3 16.8 14.\n",
            " 33.8 36.1 12.8 18.3 18.7 19.1 29.  30.1 50.  50.  22.  11.9 37.6 50.\n",
            " 22.7 20.8 23.5 27.9 50.  19.3 23.9 22.6 15.2 21.7 19.2 43.8 20.3 33.2\n",
            " 19.9 22.5 32.7 22.  17.1 19.  15.  16.1 25.1 23.7 28.7 37.2 22.6 16.4\n",
            " 25.  29.8 22.1 17.4 18.1 30.3 17.5 24.7 12.6 26.5 28.7 13.3 10.4 24.4\n",
            " 23.  20.  17.8  7.  11.8 24.4 13.8 19.4 25.2 19.4 19.4 29.1]\n"
          ],
          "name": "stdout"
        }
      ]
    },
    {
      "cell_type": "code",
      "metadata": {
        "id": "7IwgH3W9QAFQ",
        "colab_type": "code",
        "outputId": "a10da638-6f03-4e69-b82c-bb8d1ede8a14",
        "colab": {
          "base_uri": "https://localhost:8080/",
          "height": 67
        }
      },
      "source": [
        "train_data[0]"
      ],
      "execution_count": 0,
      "outputs": [
        {
          "output_type": "execute_result",
          "data": {
            "text/plain": [
              "array([  1.23247,   0.     ,   8.14   ,   0.     ,   0.538  ,   6.142  ,\n",
              "        91.7    ,   3.9769 ,   4.     , 307.     ,  21.     , 396.9    ,\n",
              "        18.72   ])"
            ]
          },
          "metadata": {
            "tags": []
          },
          "execution_count": 4
        }
      ]
    },
    {
      "cell_type": "code",
      "metadata": {
        "id": "GkKb7xEDQck0",
        "colab_type": "code",
        "outputId": "8a917a96-87e6-407a-b56b-9b7f560d1923",
        "colab": {
          "base_uri": "https://localhost:8080/",
          "height": 34
        }
      },
      "source": [
        "train_targets[0]"
      ],
      "execution_count": 0,
      "outputs": [
        {
          "output_type": "execute_result",
          "data": {
            "text/plain": [
              "15.2"
            ]
          },
          "metadata": {
            "tags": []
          },
          "execution_count": 5
        }
      ]
    },
    {
      "cell_type": "code",
      "metadata": {
        "id": "S2Z-nB7BQtBA",
        "colab_type": "code",
        "colab": {}
      },
      "source": [
        "#Normalizing Data\n",
        "mean = train_data.mean(axis=0)\n",
        "train_data -=mean\n",
        "std=train_data.std(axis=0)\n",
        "train_data /= std\n",
        "test_data -= mean\n",
        "test_data /= std"
      ],
      "execution_count": 0,
      "outputs": []
    },
    {
      "cell_type": "code",
      "metadata": {
        "id": "uwBONS9YZJ82",
        "colab_type": "code",
        "outputId": "08b71d38-3b61-4825-81e5-5a08b377ebb0",
        "colab": {
          "base_uri": "https://localhost:8080/",
          "height": 67
        }
      },
      "source": [
        "train_data[0]"
      ],
      "execution_count": 0,
      "outputs": [
        {
          "output_type": "execute_result",
          "data": {
            "text/plain": [
              "array([-0.27224633, -0.48361547, -0.43576161, -0.25683275, -0.1652266 ,\n",
              "       -0.1764426 ,  0.81306188,  0.1166983 , -0.62624905, -0.59517003,\n",
              "        1.14850044,  0.44807713,  0.8252202 ])"
            ]
          },
          "metadata": {
            "tags": []
          },
          "execution_count": 7
        }
      ]
    },
    {
      "cell_type": "code",
      "metadata": {
        "id": "niBxAxQ-ZcTG",
        "colab_type": "code",
        "colab": {}
      },
      "source": [
        "def build_model():\n",
        "  model = models.Sequential()\n",
        "  model.add(layers.Dense(64, activation='relu', input_shape=(train_data.shape[1],)))\n",
        "  model.add(layers.Dense(64, activation='relu'))\n",
        "  model.add(layers.Dense(1))\n",
        "  model.compile(optimizer='rmsprop', loss='mse', metrics=['mae'])\n",
        "  return model"
      ],
      "execution_count": 0,
      "outputs": []
    },
    {
      "cell_type": "code",
      "metadata": {
        "id": "6oJZm2oDghFz",
        "colab_type": "code",
        "outputId": "f8767481-4e38-4d10-84fd-fa07c9e9c066",
        "colab": {
          "base_uri": "https://localhost:8080/",
          "height": 84
        }
      },
      "source": [
        "#Kfold Validation\n",
        "k = 4\n",
        "num_val_samples = len(train_data)//4\n",
        "num_of_epochs = 100\n",
        "all_score = []\n",
        "all_mae_histories=[]\n",
        "for i in range(k):\n",
        "    print('processing fold #', i)\n",
        "    #-validation data: data from partition k=4\n",
        "    val_data = train_data[i*num_val_samples:(i+1)*num_val_samples]\n",
        "    val_targets = train_targets[i*num_val_samples:(i+1)*num_val_samples]  \n",
        "    #-training data: data from all other partitions\n",
        "    partial_train_data = np.concatenate(\n",
        "                        [train_data[:i*num_val_samples],\n",
        "                         train_data[(i+1)*num_val_samples:]],\n",
        "                        axis=0)\n",
        "    \n",
        "    partial_train_targets = np.concatenate(\n",
        "                            [train_targets[:i*num_val_samples],\n",
        "                             train_targets[(i+1)*num_val_samples:]],\n",
        "                            axis=0)\n",
        "    model = build_model()\n",
        "    history=model.fit(partial_train_data, partial_train_targets, epochs=100, batch_size=1, verbose=0)\n",
        "    val_mse, val_mae = model.evaluate(val_data, val_targets, verbose=0)\n",
        "    all_score.append(val_mae)\n",
        "    mae_history= history.history['mae']\n",
        "    all_mae_histories.append(mae_history)"
      ],
      "execution_count": 0,
      "outputs": [
        {
          "output_type": "stream",
          "text": [
            "processing fold # 0\n",
            "processing fold # 1\n",
            "processing fold # 2\n",
            "processing fold # 3\n"
          ],
          "name": "stdout"
        }
      ]
    },
    {
      "cell_type": "code",
      "metadata": {
        "id": "TTPlXoTklar7",
        "colab_type": "code",
        "outputId": "300d0da3-d011-4600-b292-6728f6c12269",
        "colab": {
          "base_uri": "https://localhost:8080/",
          "height": 87
        }
      },
      "source": [
        "#error\n",
        "average_mae_history= [np.mean([x[i] for x in all_mae_histories]) for i in range(num_of_epochs)]\n",
        "print('All fold validation errors: ', all_score)\n",
        "print('Mean of All fold validation errors: ', np.mean(all_score))\n",
        "print('Average mae history: ', average_mae_history)"
      ],
      "execution_count": 0,
      "outputs": [
        {
          "output_type": "stream",
          "text": [
            "All fold validation errors:  [1.9046258, 2.416511, 2.947326, 2.4998815]\n",
            "Mean of All fold validation errors:  2.4420862\n",
            "Average mae history:  [10.830303, 3.6908243, 3.0629158, 2.788352, 2.6144714, 2.4769087, 2.3936658, 2.3534462, 2.274388, 2.2268696, 2.167002, 2.190326, 2.1168046, 2.0801353, 2.0783954, 2.0597124, 2.0302894, 2.0044317, 1.9763759, 1.9746047, 1.9357309, 1.9600481, 1.9283979, 1.9198332, 1.8846776, 1.8660694, 1.8206339, 1.8130103, 1.823736, 1.7855299, 1.8454392, 1.78284, 1.7782404, 1.7686617, 1.7250639, 1.7579488, 1.7262163, 1.7043902, 1.7093232, 1.6761637, 1.665417, 1.6564415, 1.672468, 1.6533295, 1.6255761, 1.6365182, 1.6553241, 1.614327, 1.5918331, 1.5695777, 1.5789518, 1.5908363, 1.5941274, 1.5710517, 1.5779881, 1.5403095, 1.5383219, 1.5347767, 1.5044377, 1.5160863, 1.5276773, 1.513943, 1.484623, 1.4879946, 1.477751, 1.515131, 1.4853808, 1.4694505, 1.4304754, 1.4528736, 1.4586642, 1.4477789, 1.4175391, 1.4385417, 1.4141489, 1.4209787, 1.4295835, 1.3997201, 1.3839078, 1.407043, 1.3690733, 1.3774914, 1.3697363, 1.3763744, 1.352217, 1.3434958, 1.317214, 1.3517568, 1.347506, 1.3241508, 1.3287677, 1.3323157, 1.320684, 1.3072349, 1.3099447, 1.3002355, 1.2948889, 1.2995012, 1.3026667, 1.2932895]\n"
          ],
          "name": "stdout"
        }
      ]
    },
    {
      "cell_type": "code",
      "metadata": {
        "id": "MAXyqdjUrJ7R",
        "colab_type": "code",
        "outputId": "ecf9ee42-1af2-4101-ec58-596759d7a3fa",
        "colab": {
          "base_uri": "https://localhost:8080/",
          "height": 34
        }
      },
      "source": [
        "[len(x) for x in all_mae_histories]"
      ],
      "execution_count": 0,
      "outputs": [
        {
          "output_type": "execute_result",
          "data": {
            "text/plain": [
              "[100, 100, 100, 100]"
            ]
          },
          "metadata": {
            "tags": []
          },
          "execution_count": 14
        }
      ]
    },
    {
      "cell_type": "code",
      "metadata": {
        "id": "5e2fPkHutYAf",
        "colab_type": "code",
        "outputId": "969133b9-7430-4e88-dcfc-c0942b426e23",
        "colab": {
          "base_uri": "https://localhost:8080/",
          "height": 279
        }
      },
      "source": [
        "#plotting error\n",
        "plt.plot(range(1, len(average_mae_history)+1), average_mae_history)\n",
        "plt.xlabel('Epochs')\n",
        "plt.ylabel('Validation MAE')\n",
        "plt.show()"
      ],
      "execution_count": 0,
      "outputs": [
        {
          "output_type": "display_data",
          "data": {
            "image/png": "[encoded data removed]",
            "text/plain": [
              "<Figure size 432x288 with 1 Axes>"
            ]
          },
          "metadata": {
            "tags": []
          }
        }
      ]
    },
    {
      "cell_type": "code",
      "metadata": {
        "id": "3uwKyh_Rv12n",
        "colab_type": "code",
        "outputId": "aeb8c8cd-c7ce-4c56-8d63-f94d7d236187",
        "colab": {
          "base_uri": "https://localhost:8080/",
          "height": 281
        }
      },
      "source": [
        "def smooth_curve(points, factor=0.9):\n",
        "    smoothed_points = []\n",
        "    for point in points:\n",
        "        if smoothed_points:\n",
        "            previous = smoothed_points[-1]\n",
        "            smoothed_points.append(previous * factor + point * (1 - factor))\n",
        "        else:\n",
        "            smoothed_points.append(point)\n",
        "    return smoothed_points\n",
        "\n",
        "smooth_mae_history = smooth_curve(average_mae_history[10:])\n",
        "plt.plot(range(1, len(smooth_mae_history) + 1), smooth_mae_history)\n",
        "plt.xlabel('Epochs')\n",
        "plt.ylabel('Validation MAE')\n",
        "plt.show()"
      ],
      "execution_count": 0,
      "outputs": [
        {
          "output_type": "display_data",
          "data": {
            "image/png": "[encoded data removed]",
            "text/plain": [
              "<Figure size 432x288 with 1 Axes>"
            ]
          },
          "metadata": {
            "tags": []
          }
        }
      ]
    },
    {
      "cell_type": "code",
      "metadata": {
        "id": "lcUM8lRBwS8K",
        "colab_type": "code",
        "outputId": "fc2ec1df-8734-40e4-d346-d65c8a584076",
        "colab": {
          "base_uri": "https://localhost:8080/",
          "height": 1000
        }
      },
      "source": [
        "#Training and Testing Final Model\n",
        "model = build_model()\n",
        "model.fit(train_data, train_targets, epochs=80, batch_size=16)\n",
        "test_mse_score, test_mae_score = model.evaluate(test_data, test_targets)\n",
        "print(test_mae_score)"
      ],
      "execution_count": 0,
      "outputs": [
        {
          "output_type": "stream",
          "text": [
            "Train on 404 samples\n",
            "Epoch 1/80\n",
            "404/404 [==============================] - 0s 1ms/sample - loss: 460.5906 - mae: 19.2167\n",
            "Epoch 2/80\n",
            "404/404 [==============================] - 0s 93us/sample - loss: 273.3130 - mae: 14.0772\n",
            "Epoch 3/80\n",
            "404/404 [==============================] - 0s 91us/sample - loss: 110.5009 - mae: 8.3509\n",
            "Epoch 4/80\n",
            "404/404 [==============================] - 0s 101us/sample - loss: 43.6517 - mae: 4.9183\n",
            "Epoch 5/80\n",
            "404/404 [==============================] - 0s 98us/sample - loss: 28.7947 - mae: 3.8363\n",
            "Epoch 6/80\n",
            "404/404 [==============================] - 0s 91us/sample - loss: 22.8878 - mae: 3.3959\n",
            "Epoch 7/80\n",
            "404/404 [==============================] - 0s 102us/sample - loss: 19.4871 - mae: 3.1843\n",
            "Epoch 8/80\n",
            "404/404 [==============================] - 0s 93us/sample - loss: 16.9733 - mae: 2.9050\n",
            "Epoch 9/80\n",
            "404/404 [==============================] - 0s 95us/sample - loss: 15.8219 - mae: 2.8134\n",
            "Epoch 10/80\n",
            "404/404 [==============================] - 0s 100us/sample - loss: 14.3711 - mae: 2.6658\n",
            "Epoch 11/80\n",
            "404/404 [==============================] - 0s 91us/sample - loss: 13.6284 - mae: 2.6151\n",
            "Epoch 12/80\n",
            "404/404 [==============================] - 0s 94us/sample - loss: 12.9556 - mae: 2.5643\n",
            "Epoch 13/80\n",
            "404/404 [==============================] - 0s 99us/sample - loss: 12.3302 - mae: 2.4685\n",
            "Epoch 14/80\n",
            "404/404 [==============================] - 0s 107us/sample - loss: 12.0041 - mae: 2.4605\n",
            "Epoch 15/80\n",
            "404/404 [==============================] - 0s 98us/sample - loss: 11.4355 - mae: 2.4329\n",
            "Epoch 16/80\n",
            "404/404 [==============================] - 0s 99us/sample - loss: 11.1399 - mae: 2.3645\n",
            "Epoch 17/80\n",
            "404/404 [==============================] - 0s 100us/sample - loss: 10.8964 - mae: 2.3500\n",
            "Epoch 18/80\n",
            "404/404 [==============================] - 0s 98us/sample - loss: 10.6953 - mae: 2.3317\n",
            "Epoch 19/80\n",
            "404/404 [==============================] - 0s 93us/sample - loss: 10.4841 - mae: 2.2959\n",
            "Epoch 20/80\n",
            "404/404 [==============================] - 0s 103us/sample - loss: 10.2072 - mae: 2.2643\n",
            "Epoch 21/80\n",
            "404/404 [==============================] - 0s 99us/sample - loss: 10.1676 - mae: 2.2836\n",
            "Epoch 22/80\n",
            "404/404 [==============================] - 0s 99us/sample - loss: 9.7513 - mae: 2.2270\n",
            "Epoch 23/80\n",
            "404/404 [==============================] - 0s 95us/sample - loss: 9.8190 - mae: 2.2581\n",
            "Epoch 24/80\n",
            "404/404 [==============================] - 0s 89us/sample - loss: 9.5308 - mae: 2.2059\n",
            "Epoch 25/80\n",
            "404/404 [==============================] - 0s 100us/sample - loss: 9.6016 - mae: 2.2142\n",
            "Epoch 26/80\n",
            "404/404 [==============================] - 0s 115us/sample - loss: 9.4792 - mae: 2.1983\n",
            "Epoch 27/80\n",
            "404/404 [==============================] - 0s 98us/sample - loss: 9.4220 - mae: 2.1648\n",
            "Epoch 28/80\n",
            "404/404 [==============================] - 0s 89us/sample - loss: 9.0994 - mae: 2.1506\n",
            "Epoch 29/80\n",
            "404/404 [==============================] - 0s 92us/sample - loss: 8.7149 - mae: 2.1336\n",
            "Epoch 30/80\n",
            "404/404 [==============================] - 0s 97us/sample - loss: 8.9717 - mae: 2.1474\n",
            "Epoch 31/80\n",
            "404/404 [==============================] - 0s 96us/sample - loss: 8.6402 - mae: 2.0866\n",
            "Epoch 32/80\n",
            "404/404 [==============================] - 0s 99us/sample - loss: 8.6198 - mae: 2.0665\n",
            "Epoch 33/80\n",
            "404/404 [==============================] - 0s 100us/sample - loss: 8.6667 - mae: 2.1187\n",
            "Epoch 34/80\n",
            "404/404 [==============================] - 0s 89us/sample - loss: 8.4541 - mae: 2.0579\n",
            "Epoch 35/80\n",
            "404/404 [==============================] - 0s 93us/sample - loss: 8.3440 - mae: 2.0526\n",
            "Epoch 36/80\n",
            "404/404 [==============================] - 0s 95us/sample - loss: 8.2271 - mae: 2.0549\n",
            "Epoch 37/80\n",
            "404/404 [==============================] - 0s 98us/sample - loss: 8.3856 - mae: 2.0546\n",
            "Epoch 38/80\n",
            "404/404 [==============================] - 0s 101us/sample - loss: 8.0749 - mae: 2.0222\n",
            "Epoch 39/80\n",
            "404/404 [==============================] - 0s 101us/sample - loss: 8.1425 - mae: 2.0593\n",
            "Epoch 40/80\n",
            "404/404 [==============================] - 0s 103us/sample - loss: 7.8982 - mae: 1.9657\n",
            "Epoch 41/80\n",
            "404/404 [==============================] - 0s 96us/sample - loss: 7.7610 - mae: 1.9784\n",
            "Epoch 42/80\n",
            "404/404 [==============================] - 0s 108us/sample - loss: 7.7767 - mae: 1.9630\n",
            "Epoch 43/80\n",
            "404/404 [==============================] - 0s 96us/sample - loss: 7.6073 - mae: 1.9401\n",
            "Epoch 44/80\n",
            "404/404 [==============================] - 0s 92us/sample - loss: 7.6547 - mae: 1.9283\n",
            "Epoch 45/80\n",
            "404/404 [==============================] - 0s 94us/sample - loss: 7.4809 - mae: 1.9226\n",
            "Epoch 46/80\n",
            "404/404 [==============================] - 0s 97us/sample - loss: 7.4316 - mae: 1.9089\n",
            "Epoch 47/80\n",
            "404/404 [==============================] - 0s 99us/sample - loss: 7.4783 - mae: 1.9124\n",
            "Epoch 48/80\n",
            "404/404 [==============================] - 0s 100us/sample - loss: 7.2620 - mae: 1.9115\n",
            "Epoch 49/80\n",
            "404/404 [==============================] - 0s 100us/sample - loss: 7.2398 - mae: 1.8847\n",
            "Epoch 50/80\n",
            "404/404 [==============================] - 0s 93us/sample - loss: 7.3677 - mae: 1.9505\n",
            "Epoch 51/80\n",
            "404/404 [==============================] - 0s 98us/sample - loss: 7.0354 - mae: 1.8720\n",
            "Epoch 52/80\n",
            "404/404 [==============================] - 0s 96us/sample - loss: 7.0499 - mae: 1.8814\n",
            "Epoch 53/80\n",
            "404/404 [==============================] - 0s 102us/sample - loss: 6.9712 - mae: 1.8650\n",
            "Epoch 54/80\n",
            "404/404 [==============================] - 0s 95us/sample - loss: 6.8764 - mae: 1.8562\n",
            "Epoch 55/80\n",
            "404/404 [==============================] - 0s 94us/sample - loss: 6.7346 - mae: 1.7968\n",
            "Epoch 56/80\n",
            "404/404 [==============================] - 0s 92us/sample - loss: 6.6296 - mae: 1.8584\n",
            "Epoch 57/80\n",
            "404/404 [==============================] - 0s 94us/sample - loss: 6.8164 - mae: 1.8153\n",
            "Epoch 58/80\n",
            "404/404 [==============================] - 0s 97us/sample - loss: 6.6700 - mae: 1.8074\n",
            "Epoch 59/80\n",
            "404/404 [==============================] - 0s 91us/sample - loss: 6.5063 - mae: 1.7756\n",
            "Epoch 60/80\n",
            "404/404 [==============================] - 0s 116us/sample - loss: 6.5062 - mae: 1.8201\n",
            "Epoch 61/80\n",
            "404/404 [==============================] - 0s 93us/sample - loss: 6.4166 - mae: 1.7915\n",
            "Epoch 62/80\n",
            "404/404 [==============================] - 0s 89us/sample - loss: 6.2508 - mae: 1.8131\n",
            "Epoch 63/80\n",
            "404/404 [==============================] - 0s 97us/sample - loss: 6.3827 - mae: 1.7807\n",
            "Epoch 64/80\n",
            "404/404 [==============================] - 0s 101us/sample - loss: 5.9132 - mae: 1.7103\n",
            "Epoch 65/80\n",
            "404/404 [==============================] - 0s 98us/sample - loss: 6.2061 - mae: 1.7347\n",
            "Epoch 66/80\n",
            "404/404 [==============================] - 0s 86us/sample - loss: 6.1927 - mae: 1.7474\n",
            "Epoch 67/80\n",
            "404/404 [==============================] - 0s 106us/sample - loss: 5.9952 - mae: 1.7245\n",
            "Epoch 68/80\n",
            "404/404 [==============================] - 0s 91us/sample - loss: 5.9000 - mae: 1.7523\n",
            "Epoch 69/80\n",
            "404/404 [==============================] - 0s 103us/sample - loss: 5.8500 - mae: 1.7253\n",
            "Epoch 70/80\n",
            "404/404 [==============================] - 0s 95us/sample - loss: 5.9254 - mae: 1.7294\n",
            "Epoch 71/80\n",
            "404/404 [==============================] - 0s 98us/sample - loss: 5.8514 - mae: 1.6885\n",
            "Epoch 72/80\n",
            "404/404 [==============================] - 0s 101us/sample - loss: 5.7314 - mae: 1.6709\n",
            "Epoch 73/80\n",
            "404/404 [==============================] - 0s 94us/sample - loss: 5.9368 - mae: 1.7330\n",
            "Epoch 74/80\n",
            "404/404 [==============================] - 0s 105us/sample - loss: 5.5491 - mae: 1.6571\n",
            "Epoch 75/80\n",
            "404/404 [==============================] - 0s 106us/sample - loss: 5.6350 - mae: 1.6886\n",
            "Epoch 76/80\n",
            "404/404 [==============================] - 0s 99us/sample - loss: 5.5744 - mae: 1.6386\n",
            "Epoch 77/80\n",
            "404/404 [==============================] - 0s 100us/sample - loss: 5.4821 - mae: 1.6443\n",
            "Epoch 78/80\n",
            "404/404 [==============================] - 0s 98us/sample - loss: 5.5204 - mae: 1.6588\n",
            "Epoch 79/80\n",
            "404/404 [==============================] - 0s 88us/sample - loss: 5.4541 - mae: 1.6467\n",
            "Epoch 80/80\n",
            "404/404 [==============================] - 0s 98us/sample - loss: 5.2603 - mae: 1.6113\n",
            "102/102 [==============================] - 0s 628us/sample - loss: 17.3384 - mae: 2.6453\n",
            "2.6452522\n"
          ],
          "name": "stdout"
        }
      ]
    }
  ]
}