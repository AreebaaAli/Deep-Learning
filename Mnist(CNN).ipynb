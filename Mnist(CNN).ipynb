{
  "nbformat": 4,
  "nbformat_minor": 0,
  "metadata": {
    "colab": {
      "name": "Mnist(CNN).ipynb",
      "provenance": [],
      "collapsed_sections": []
    },
    "kernelspec": {
      "name": "python3",
      "display_name": "Python 3"
    }
  },
  "cells": [
    {
      "cell_type": "code",
      "metadata": {
        "id": "rZnIc_HFxrKw",
        "colab_type": "code",
        "colab": {}
      },
      "source": [
        "import tensorflow as tf\n",
        "from tensorflow.keras import layers\n",
        "from tensorflow.keras import models\n",
        "from tensorflow.keras.datasets import mnist\n",
        "from tensorflow.keras.utils import to_categorical\n",
        "import numpy as np\n",
        "import matplotlib.pyplot as plt"
      ],
      "execution_count": 0,
      "outputs": []
    },
    {
      "cell_type": "code",
      "metadata": {
        "id": "oCVyfWzr2TYI",
        "colab_type": "code",
        "colab": {
          "base_uri": "https://localhost:8080/",
          "height": 50
        },
        "outputId": "738c0e7b-4b3c-429f-feec-5b7d60a44962"
      },
      "source": [
        "#Loading Data\n",
        "(train_images, train_labels), (test_images, test_labels) = mnist.load_data()"
      ],
      "execution_count": 2,
      "outputs": [
        {
          "output_type": "stream",
          "text": [
            "Downloading data from https://storage.googleapis.com/tensorflow/tf-keras-datasets/mnist.npz\n",
            "11493376/11490434 [==============================] - 0s 0us/step\n"
          ],
          "name": "stdout"
        }
      ]
    },
    {
      "cell_type": "code",
      "metadata": {
        "id": "TbS480McMLcy",
        "colab_type": "code",
        "outputId": "5bbcff64-4f05-4ab2-f765-6a25c8b45e20",
        "colab": {
          "base_uri": "https://localhost:8080/",
          "height": 282
        }
      },
      "source": [
        "plt.imshow(train_images[0])"
      ],
      "execution_count": 3,
      "outputs": [
        {
          "output_type": "execute_result",
          "data": {
            "text/plain": [
              "<matplotlib.image.AxesImage at 0x7fdadfb24da0>"
            ]
          },
          "metadata": {
            "tags": []
          },
          "execution_count": 3
        },
        {
          "output_type": "display_data",
          "data": {
            "image/png": "[encoded data removed]",
            "text/plain": [
              "<Figure size 432x288 with 1 Axes>"
            ]
          },
          "metadata": {
            "tags": []
          }
        }
      ]
    },
    {
      "cell_type": "code",
      "metadata": {
        "id": "jGeFnvb428ir",
        "colab_type": "code",
        "outputId": "320f5a4f-0906-4185-d3fa-0da76817e114",
        "colab": {
          "base_uri": "https://localhost:8080/",
          "height": 84
        }
      },
      "source": [
        "#Shapes of the dataset\n",
        "print('train_images.shape: ', train_images.shape)\n",
        "print('train_labels.shape: ', train_labels.shape)\n",
        "print('test_images.shape: ', test_images.shape)\n",
        "print('test_labels.shape: ', test_labels.shape)"
      ],
      "execution_count": 4,
      "outputs": [
        {
          "output_type": "stream",
          "text": [
            "train_images.shape:  (60000, 28, 28)\n",
            "train_labels.shape:  (60000,)\n",
            "test_images.shape:  (10000, 28, 28)\n",
            "test_labels.shape:  (10000,)\n"
          ],
          "name": "stdout"
        }
      ]
    },
    {
      "cell_type": "code",
      "metadata": {
        "id": "5sgE6IweAq4K",
        "colab_type": "code",
        "outputId": "c210d8f5-6adf-4ee5-f6ee-c8d7197d5096",
        "colab": {
          "base_uri": "https://localhost:8080/",
          "height": 34
        }
      },
      "source": [
        "train_labels[0]"
      ],
      "execution_count": 5,
      "outputs": [
        {
          "output_type": "execute_result",
          "data": {
            "text/plain": [
              "5"
            ]
          },
          "metadata": {
            "tags": []
          },
          "execution_count": 5
        }
      ]
    },
    {
      "cell_type": "code",
      "metadata": {
        "id": "o3gtVf8G3XnF",
        "colab_type": "code",
        "colab": {}
      },
      "source": [
        "train_labels = to_categorical(train_labels)\n",
        "test_labels = to_categorical(test_labels)"
      ],
      "execution_count": 0,
      "outputs": []
    },
    {
      "cell_type": "code",
      "metadata": {
        "id": "FMtMNOio4OMt",
        "colab_type": "code",
        "outputId": "ef81e29f-1c49-4ffd-d18f-3eca2704690f",
        "colab": {
          "base_uri": "https://localhost:8080/",
          "height": 34
        }
      },
      "source": [
        "train_labels[0]"
      ],
      "execution_count": 7,
      "outputs": [
        {
          "output_type": "execute_result",
          "data": {
            "text/plain": [
              "array([0., 0., 0., 0., 0., 1., 0., 0., 0., 0.], dtype=float32)"
            ]
          },
          "metadata": {
            "tags": []
          },
          "execution_count": 7
        }
      ]
    },
    {
      "cell_type": "code",
      "metadata": {
        "id": "Ab3D6h5-4h1s",
        "colab_type": "code",
        "colab": {}
      },
      "source": [
        ""
      ],
      "execution_count": 0,
      "outputs": []
    },
    {
      "cell_type": "markdown",
      "metadata": {
        "id": "jo6ULoub1jtm",
        "colab_type": "text"
      },
      "source": [
        "#Dense Model"
      ]
    },
    {
      "cell_type": "code",
      "metadata": {
        "id": "zRfTfT6m0Koy",
        "colab_type": "code",
        "outputId": "5c1861aa-3d75-419f-bef9-fbbaefa73615",
        "colab": {
          "base_uri": "https://localhost:8080/",
          "height": 252
        }
      },
      "source": [
        "# Initializes a sequential model\n",
        "dense_model = models.Sequential()\n",
        "\n",
        "# First layer\n",
        "dense_model.add(layers.Dense(64, activation='relu', input_shape=(784,)))\n",
        "\n",
        "# Second layer\n",
        "dense_model.add(layers.Dense(64, activation='relu'))\n",
        "\n",
        "# Output layer\n",
        "dense_model.add(layers.Dense(10, activation='softmax'))\n",
        "dense_model.summary()"
      ],
      "execution_count": 8,
      "outputs": [
        {
          "output_type": "stream",
          "text": [
            "Model: \"sequential\"\n",
            "_________________________________________________________________\n",
            "Layer (type)                 Output Shape              Param #   \n",
            "=================================================================\n",
            "dense (Dense)                (None, 64)                50240     \n",
            "_________________________________________________________________\n",
            "dense_1 (Dense)              (None, 64)                4160      \n",
            "_________________________________________________________________\n",
            "dense_2 (Dense)              (None, 10)                650       \n",
            "=================================================================\n",
            "Total params: 55,050\n",
            "Trainable params: 55,050\n",
            "Non-trainable params: 0\n",
            "_________________________________________________________________\n"
          ],
          "name": "stdout"
        }
      ]
    },
    {
      "cell_type": "code",
      "metadata": {
        "id": "bpHg9Bp12BQ_",
        "colab_type": "code",
        "colab": {}
      },
      "source": [
        "# Compile the model\n",
        "dense_model.compile(optimizer='adam', \n",
        "           loss='categorical_crossentropy', \n",
        "           metrics=['accuracy'])"
      ],
      "execution_count": 0,
      "outputs": []
    },
    {
      "cell_type": "code",
      "metadata": {
        "id": "DO5GIjd-0IzS",
        "colab_type": "code",
        "outputId": "426fbf5f-2b21-4e36-c13d-0e305dea0db7",
        "colab": {
          "base_uri": "https://localhost:8080/",
          "height": 202
        }
      },
      "source": [
        "# Reshape the data to two-dimensional array\n",
        "dense_train_data = train_images.reshape(train_images.shape[0], 784)\n",
        "\n",
        "# Reshape the data to two-dimensional array\n",
        "dense_test_images = test_images.reshape(test_images.shape[0], 784)\n",
        "\n",
        "# Fit the model\n",
        "dense_model.fit(dense_train_data, train_labels, validation_split=0.2, epochs=5)"
      ],
      "execution_count": 10,
      "outputs": [
        {
          "output_type": "stream",
          "text": [
            "Epoch 1/5\n",
            "1500/1500 [==============================] - 3s 2ms/step - loss: 1.8210 - accuracy: 0.8111 - val_loss: 0.5215 - val_accuracy: 0.8805\n",
            "Epoch 2/5\n",
            "1500/1500 [==============================] - 3s 2ms/step - loss: 0.4017 - accuracy: 0.9016 - val_loss: 0.3266 - val_accuracy: 0.9208\n",
            "Epoch 3/5\n",
            "1500/1500 [==============================] - 3s 2ms/step - loss: 0.3234 - accuracy: 0.9204 - val_loss: 0.3695 - val_accuracy: 0.9145\n",
            "Epoch 4/5\n",
            "1500/1500 [==============================] - 3s 2ms/step - loss: 0.2842 - accuracy: 0.9291 - val_loss: 0.2940 - val_accuracy: 0.9352\n",
            "Epoch 5/5\n",
            "1500/1500 [==============================] - 3s 2ms/step - loss: 0.2530 - accuracy: 0.9361 - val_loss: 0.2775 - val_accuracy: 0.9377\n"
          ],
          "name": "stdout"
        },
        {
          "output_type": "execute_result",
          "data": {
            "text/plain": [
              "<tensorflow.python.keras.callbacks.History at 0x7fdad93a04e0>"
            ]
          },
          "metadata": {
            "tags": []
          },
          "execution_count": 10
        }
      ]
    },
    {
      "cell_type": "code",
      "metadata": {
        "id": "iaZV7aXm7O2T",
        "colab_type": "code",
        "outputId": "2cc5202b-b49a-4717-a501-95ef0cdf1932",
        "colab": {
          "base_uri": "https://localhost:8080/",
          "height": 50
        }
      },
      "source": [
        "# Evaluate the model\n",
        "dense_model.evaluate(dense_test_images, test_labels)"
      ],
      "execution_count": 11,
      "outputs": [
        {
          "output_type": "stream",
          "text": [
            "313/313 [==============================] - 0s 1ms/step - loss: 0.2760 - accuracy: 0.9372\n"
          ],
          "name": "stdout"
        },
        {
          "output_type": "execute_result",
          "data": {
            "text/plain": [
              "[0.27602383494377136, 0.9372000098228455]"
            ]
          },
          "metadata": {
            "tags": []
          },
          "execution_count": 11
        }
      ]
    },
    {
      "cell_type": "markdown",
      "metadata": {
        "id": "Dur2kyHi66yr",
        "colab_type": "text"
      },
      "source": [
        "# CNN\n"
      ]
    },
    {
      "cell_type": "code",
      "metadata": {
        "id": "s6J1FTdPyTn7",
        "colab_type": "code",
        "colab": {}
      },
      "source": [
        "# Initializes a sequential model\n",
        "model = models.Sequential()\n",
        "\n",
        "# Adding a 2D Convolutional Layer\n",
        "model.add(layers.Conv2D(32, (3, 3), activation='relu', input_shape=(28, 28, 1)))\n",
        "\n",
        "# Adding 1st Max Pooling Layer\n",
        "model.add(layers.MaxPooling2D((2, 2)))\n",
        "\n",
        "# Adding 2nd 2D Convolutional Layer\n",
        "model.add(layers.Conv2D(64, (3, 3), activation='relu'))\n",
        "\n",
        "# Adding 2nd Max Pooling Layer\n",
        "model.add(layers.MaxPooling2D((2, 2)))\n",
        "\n",
        "# Adding 3rd 2D Convolutional Layer\n",
        "model.add(layers.Conv2D(64, (3, 3), activation='relu'))\n",
        "\n",
        "# Adding a flattening layer to convert Filter maps into 1D Tensor\n",
        "model.add(layers.Flatten())\n",
        "\n",
        "# Adding Dense Layer before the outpur layer\n",
        "model.add(layers.Dense(64, activation='relu'))\n",
        "\n",
        "# Output Layer\n",
        "model.add(layers.Dense(10, activation='softmax'))"
      ],
      "execution_count": 0,
      "outputs": []
    },
    {
      "cell_type": "code",
      "metadata": {
        "id": "cOOB3GGlyQ8q",
        "colab_type": "code",
        "outputId": "3188daaf-8a83-4752-a471-f101c40cd9a7",
        "colab": {
          "base_uri": "https://localhost:8080/",
          "height": 420
        }
      },
      "source": [
        "model.summary()"
      ],
      "execution_count": 13,
      "outputs": [
        {
          "output_type": "stream",
          "text": [
            "Model: \"sequential_1\"\n",
            "_________________________________________________________________\n",
            "Layer (type)                 Output Shape              Param #   \n",
            "=================================================================\n",
            "conv2d (Conv2D)              (None, 26, 26, 32)        320       \n",
            "_________________________________________________________________\n",
            "max_pooling2d (MaxPooling2D) (None, 13, 13, 32)        0         \n",
            "_________________________________________________________________\n",
            "conv2d_1 (Conv2D)            (None, 11, 11, 64)        18496     \n",
            "_________________________________________________________________\n",
            "max_pooling2d_1 (MaxPooling2 (None, 5, 5, 64)          0         \n",
            "_________________________________________________________________\n",
            "conv2d_2 (Conv2D)            (None, 3, 3, 64)          36928     \n",
            "_________________________________________________________________\n",
            "flatten (Flatten)            (None, 576)               0         \n",
            "_________________________________________________________________\n",
            "dense_3 (Dense)              (None, 64)                36928     \n",
            "_________________________________________________________________\n",
            "dense_4 (Dense)              (None, 10)                650       \n",
            "=================================================================\n",
            "Total params: 93,322\n",
            "Trainable params: 93,322\n",
            "Non-trainable params: 0\n",
            "_________________________________________________________________\n"
          ],
          "name": "stdout"
        }
      ]
    },
    {
      "cell_type": "code",
      "metadata": {
        "id": "HOGUPkqL6X1D",
        "colab_type": "code",
        "colab": {}
      },
      "source": [
        "# Reshape the Train Image Array for compatible with CNN\n",
        "train_images = train_images.reshape((60000, 28, 28, 1))\n",
        "\n",
        "# Normalizing the Train Images\n",
        "train_images = train_images.astype('float32') / 255\n",
        "\n",
        "# Reshape the Test Image Array for compatible with CNN\n",
        "test_images = test_images.reshape((10000, 28, 28, 1))\n",
        "\n",
        "# Normalizing the Test Images\n",
        "test_images = test_images.astype('float32') / 255\n"
      ],
      "execution_count": 0,
      "outputs": []
    },
    {
      "cell_type": "code",
      "metadata": {
        "id": "Y339s-iX4lyK",
        "colab_type": "code",
        "outputId": "974abdf5-70d6-42ed-d56d-328166af92b5",
        "colab": {
          "base_uri": "https://localhost:8080/",
          "height": 202
        }
      },
      "source": [
        "#Compiling the CNN Model\n",
        "model.compile(optimizer='rmsprop', loss='categorical_crossentropy', metrics=['accuracy'])\n",
        "\n",
        "#Fitting the CNN Model\n",
        "model.fit(train_images, train_labels, epochs=5, batch_size=64)"
      ],
      "execution_count": 15,
      "outputs": [
        {
          "output_type": "stream",
          "text": [
            "Epoch 1/5\n",
            "938/938 [==============================] - 48s 51ms/step - loss: 0.1835 - accuracy: 0.9426\n",
            "Epoch 2/5\n",
            "938/938 [==============================] - 49s 52ms/step - loss: 0.0481 - accuracy: 0.9847\n",
            "Epoch 3/5\n",
            "938/938 [==============================] - 48s 51ms/step - loss: 0.0336 - accuracy: 0.9894\n",
            "Epoch 4/5\n",
            "938/938 [==============================] - 47s 51ms/step - loss: 0.0250 - accuracy: 0.9924\n",
            "Epoch 5/5\n",
            "938/938 [==============================] - 47s 50ms/step - loss: 0.0200 - accuracy: 0.9938\n"
          ],
          "name": "stdout"
        },
        {
          "output_type": "execute_result",
          "data": {
            "text/plain": [
              "<tensorflow.python.keras.callbacks.History at 0x7fdad4c66e48>"
            ]
          },
          "metadata": {
            "tags": []
          },
          "execution_count": 15
        }
      ]
    },
    {
      "cell_type": "code",
      "metadata": {
        "id": "D4RiwtlN9FCA",
        "colab_type": "code",
        "outputId": "ffd779b5-b5af-4167-e865-4fb4f3c67cc1",
        "colab": {
          "base_uri": "https://localhost:8080/",
          "height": 34
        }
      },
      "source": [
        "#Evaluate the CNN Model\n",
        "test_loss, test_acc = model.evaluate(test_images, test_labels)"
      ],
      "execution_count": 16,
      "outputs": [
        {
          "output_type": "stream",
          "text": [
            "313/313 [==============================] - 3s 9ms/step - loss: 0.0325 - accuracy: 0.9916\n"
          ],
          "name": "stdout"
        }
      ]
    },
    {
      "cell_type": "code",
      "metadata": {
        "id": "sVJX20slAHUE",
        "colab_type": "code",
        "outputId": "dc2dd151-9474-4abd-a4bb-66711ce17a1e",
        "colab": {
          "base_uri": "https://localhost:8080/",
          "height": 34
        }
      },
      "source": [
        "test_acc"
      ],
      "execution_count": 17,
      "outputs": [
        {
          "output_type": "execute_result",
          "data": {
            "text/plain": [
              "0.991599977016449"
            ]
          },
          "metadata": {
            "tags": []
          },
          "execution_count": 17
        }
      ]
    }
  ]
}