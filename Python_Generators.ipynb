{
  "nbformat": 4,
  "nbformat_minor": 0,
  "metadata": {
    "kernelspec": {
      "display_name": "Python 3",
      "language": "python",
      "name": "python3"
    },
    "language_info": {
      "codemirror_mode": {
        "name": "ipython",
        "version": 3
      },
      "file_extension": ".py",
      "mimetype": "text/x-python",
      "name": "python",
      "nbconvert_exporter": "python",
      "pygments_lexer": "ipython3",
      "version": "3.7.4"
    },
    "colab": {
      "name": "Python_Generators.ipynb",
      "provenance": []
    }
  },
  "cells": [
    {
      "cell_type": "markdown",
      "metadata": {
        "id": "Gmt41T2McbTg",
        "colab_type": "text"
      },
      "source": [
        "# Learing Core Concept of Python Generatros "
      ]
    },
    {
      "cell_type": "markdown",
      "metadata": {
        "id": "v1aE-MaZcbTn",
        "colab_type": "raw"
      },
      "source": [
        "Python Generators are often considered a somewhat advanced topic, but they are actually very easy to understand once you start using them on a regular basis. Actually, after you use generators for some time, you will often find them more readable and performant than other options.\n",
        "\n",
        "In this notebook, we will look at what a python generator is, how and why we would use one, and the performance benefits they give us."
      ]
    },
    {
      "cell_type": "markdown",
      "metadata": {
        "id": "5MZyiM25cbTt",
        "colab_type": "text"
      },
      "source": [
        "# A simple program to calculate the square of given list of numbers "
      ]
    },
    {
      "cell_type": "code",
      "metadata": {
        "id": "gHJGoyglcbTz",
        "colab_type": "code",
        "colab": {
          "base_uri": "https://localhost:8080/",
          "height": 34
        },
        "outputId": "0e2eb97a-661c-4d99-c04e-63cd1eb6e31b"
      },
      "source": [
        "def square_numbers(nums):\n",
        "    result = []\n",
        "    for i in nums:\n",
        "        result.append(i*i)\n",
        "    return result\n",
        "\n",
        "\n",
        "my_nums = square_numbers([1,2,3,4,5,6])\n",
        "print(my_nums)"
      ],
      "execution_count": 1,
      "outputs": [
        {
          "output_type": "stream",
          "text": [
            "[1, 4, 9, 16, 25, 36]\n"
          ],
          "name": "stdout"
        }
      ]
    },
    {
      "cell_type": "markdown",
      "metadata": {
        "id": "0BFvSo6gcbUO",
        "colab_type": "text"
      },
      "source": [
        "# Doing the same task using PYTHON GENERATORS"
      ]
    },
    {
      "cell_type": "code",
      "metadata": {
        "id": "NqiK5_pmcbUR",
        "colab_type": "code",
        "colab": {
          "base_uri": "https://localhost:8080/",
          "height": 34
        },
        "outputId": "75e3bb6a-9683-44e9-d500-c182bf15d852"
      },
      "source": [
        "def square_numbers(nums):\n",
        "    for i in nums:\n",
        "        yield (i*i)  \n",
        "        # This yield keyword makes a \n",
        "        #function,a generator\n",
        "\n",
        "my_nums = square_numbers([1,2,3,4,5])\n",
        "print(my_nums)\n",
        "\n",
        "# my_nums = (x*x for x in [1,2,3,4,5])\n",
        "\n",
        "# print(list(my_nums)) # [1, 4, 9, 16, 25]\n",
        "\n",
        "# for num in my_nums:\n",
        "#     print (num)"
      ],
      "execution_count": 2,
      "outputs": [
        {
          "output_type": "stream",
          "text": [
            "<generator object square_numbers at 0x7f2e33df9728>\n"
          ],
          "name": "stdout"
        }
      ]
    },
    {
      "cell_type": "code",
      "metadata": {
        "id": "PlKkfE1mcbUj",
        "colab_type": "code",
        "colab": {}
      },
      "source": [
        "# see we are no loger getting the required \n",
        "# output[1,4,9,1,6,25,26] here\n",
        "# instead we are getting a generator object \n",
        "# this gen-object hold our value of output"
      ],
      "execution_count": 0,
      "outputs": []
    },
    {
      "cell_type": "markdown",
      "metadata": {
        "id": "mT7c2wH8cbVg",
        "colab_type": "text"
      },
      "source": [
        "# Use of \"Next\" keyword"
      ]
    },
    {
      "cell_type": "code",
      "metadata": {
        "id": "TklWLisTcbVi",
        "colab_type": "code",
        "colab": {
          "base_uri": "https://localhost:8080/",
          "height": 34
        },
        "outputId": "670c7b8b-2deb-4d20-b7f5-1e9ad3e414aa"
      },
      "source": [
        "print(next(my_nums))\n",
        "# if i do this many times i will get my result one by one"
      ],
      "execution_count": 4,
      "outputs": [
        {
          "output_type": "stream",
          "text": [
            "1\n"
          ],
          "name": "stdout"
        }
      ]
    },
    {
      "cell_type": "code",
      "metadata": {
        "id": "cUYrD2HScbVt",
        "colab_type": "code",
        "colab": {
          "base_uri": "https://localhost:8080/",
          "height": 84
        },
        "outputId": "45cbb47d-506a-4499-c978-c9d9ee5f7165"
      },
      "source": [
        "print(next(my_nums))\n",
        "print(next(my_nums))\n",
        "print(next(my_nums))\n",
        "print(next(my_nums))"
      ],
      "execution_count": 5,
      "outputs": [
        {
          "output_type": "stream",
          "text": [
            "4\n",
            "9\n",
            "16\n",
            "25\n"
          ],
          "name": "stdout"
        }
      ]
    },
    {
      "cell_type": "code",
      "metadata": {
        "id": "1jZhKl4FcbV4",
        "colab_type": "code",
        "colab": {
          "base_uri": "https://localhost:8080/",
          "height": 162
        },
        "outputId": "f9d17aa2-9b28-4909-ccb4-2fcf1588c4d4"
      },
      "source": [
        "# since we have get all our values now \n",
        "# it will through en error if i do next again\n",
        "print(next(my_nums))"
      ],
      "execution_count": 6,
      "outputs": [
        {
          "output_type": "error",
          "ename": "StopIteration",
          "evalue": "ignored",
          "traceback": [
            "\u001b[0;31m---------------------------------------------------------------------------\u001b[0m",
            "\u001b[0;31mStopIteration\u001b[0m                             Traceback (most recent call last)",
            "\u001b[0;32m<ipython-input-6-568b6ae09660>\u001b[0m in \u001b[0;36m<module>\u001b[0;34m()\u001b[0m\n\u001b[0;32m----> 1\u001b[0;31m \u001b[0mprint\u001b[0m\u001b[0;34m(\u001b[0m\u001b[0mnext\u001b[0m\u001b[0;34m(\u001b[0m\u001b[0mmy_nums\u001b[0m\u001b[0;34m)\u001b[0m\u001b[0;34m)\u001b[0m\u001b[0;34m\u001b[0m\u001b[0;34m\u001b[0m\u001b[0m\n\u001b[0m",
            "\u001b[0;31mStopIteration\u001b[0m: "
          ]
        }
      ]
    },
    {
      "cell_type": "markdown",
      "metadata": {
        "id": "hHT5sV8scbWE",
        "colab_type": "raw"
      },
      "source": [
        "We can still use a for loop to access all values in one go!!"
      ]
    },
    {
      "cell_type": "code",
      "metadata": {
        "id": "DlDMh7CmcbWG",
        "colab_type": "code",
        "colab": {
          "base_uri": "https://localhost:8080/",
          "height": 101
        },
        "outputId": "5ac30827-3481-478e-8962-7a66e1571345"
      },
      "source": [
        "def square_numbers(nums):\n",
        "    for i in nums:\n",
        "        yield (i*i)  \n",
        "        # This yield keyword makes a \n",
        "        #function,a generator\n",
        "\n",
        "my_nums = square_numbers([1,2,3,4,5])\n",
        "\n",
        "# using a fool loop to access all values\n",
        "\n",
        "for num in my_nums:\n",
        "    print(num)"
      ],
      "execution_count": 7,
      "outputs": [
        {
          "output_type": "stream",
          "text": [
            "1\n",
            "4\n",
            "9\n",
            "16\n",
            "25\n"
          ],
          "name": "stdout"
        }
      ]
    },
    {
      "cell_type": "markdown",
      "metadata": {
        "id": "gVzDwrxRcbWR",
        "colab_type": "raw"
      },
      "source": [
        "Questios: So what is the advantage of generator over a list      \n",
        "          operation?\n",
        "Answers:  - This way is much more readable rather than setting \n",
        "          result to an empty list and then returning the result             etc etc,\n",
        "          - it is easy to understand and much easir to write.\n",
        "          - Generators are memory efficent. they dont hold al                 values al together in memory in a varaible. Instead,             in memory values are passed one after one. This is               beauty of generators, in case we need one million                 records to loop through we always need a varaible to             hold all the records in memory.  \n"
      ]
    },
    {
      "cell_type": "markdown",
      "metadata": {
        "id": "Gnj-0qrocbWT",
        "colab_type": "text"
      },
      "source": [
        "# List comprehension in form of Generators"
      ]
    },
    {
      "cell_type": "code",
      "metadata": {
        "id": "C5jiweQzcbWV",
        "colab_type": "code",
        "colab": {}
      },
      "source": [
        "my_nums= (i*i for i in [1,2,3,4,5,6])\n",
        "# notice in a list comprehension we use [] but \n",
        "#when working with generators use ()"
      ],
      "execution_count": 0,
      "outputs": []
    },
    {
      "cell_type": "code",
      "metadata": {
        "id": "Vt8p8vrScbWf",
        "colab_type": "code",
        "colab": {
          "base_uri": "https://localhost:8080/",
          "height": 34
        },
        "outputId": "2131dc3f-96d9-4a30-8adb-b967068b920e"
      },
      "source": [
        "print(next(my_nums))"
      ],
      "execution_count": 9,
      "outputs": [
        {
          "output_type": "stream",
          "text": [
            "1\n"
          ],
          "name": "stdout"
        }
      ]
    },
    {
      "cell_type": "code",
      "metadata": {
        "id": "oN3kfvZXcbWq",
        "colab_type": "code",
        "colab": {
          "base_uri": "https://localhost:8080/",
          "height": 34
        },
        "outputId": "5b978a1d-e40b-4b46-daa6-699943bd0df7"
      },
      "source": [
        "print(next(my_nums))"
      ],
      "execution_count": 10,
      "outputs": [
        {
          "output_type": "stream",
          "text": [
            "4\n"
          ],
          "name": "stdout"
        }
      ]
    },
    {
      "cell_type": "code",
      "metadata": {
        "id": "Mte1RpEScbW3",
        "colab_type": "code",
        "colab": {
          "base_uri": "https://localhost:8080/",
          "height": 118
        },
        "outputId": "62b93a25-1f44-4bd5-b510-d1fc900e396c"
      },
      "source": [
        "# for loop to access all values\n",
        "my_nums= (i*i for i in [1,2,3,4,5,6])\n",
        "for num in my_nums:\n",
        "    print(num)"
      ],
      "execution_count": 11,
      "outputs": [
        {
          "output_type": "stream",
          "text": [
            "1\n",
            "4\n",
            "9\n",
            "16\n",
            "25\n",
            "36\n"
          ],
          "name": "stdout"
        }
      ]
    },
    {
      "cell_type": "markdown",
      "metadata": {
        "id": "Ja-72xQscbXB",
        "colab_type": "text"
      },
      "source": [
        "# Another example to clearly understand what i mean memory efficient"
      ]
    },
    {
      "cell_type": "code",
      "metadata": {
        "id": "JESlDhxCcbXD",
        "colab_type": "code",
        "colab": {
          "base_uri": "https://localhost:8080/",
          "height": 185
        },
        "outputId": "0894dccd-7eba-487a-ebf7-891fceac0e69"
      },
      "source": [
        "!pip install pympler"
      ],
      "execution_count": 12,
      "outputs": [
        {
          "output_type": "stream",
          "text": [
            "Collecting pympler\n",
            "\u001b[?25l  Downloading https://files.pythonhosted.org/packages/26/75/d38ea74acc62acbd4609f3f02bb93f30342a7fb4246754f4e2becd616557/Pympler-0.8.tar.gz (175kB)\n",
            "\r\u001b[K     |█▉                              | 10kB 17.3MB/s eta 0:00:01\r\u001b[K     |███▊                            | 20kB 851kB/s eta 0:00:01\r\u001b[K     |█████▋                          | 30kB 1.3MB/s eta 0:00:01\r\u001b[K     |███████▌                        | 40kB 1.7MB/s eta 0:00:01\r\u001b[K     |█████████▎                      | 51kB 1.0MB/s eta 0:00:01\r\u001b[K     |███████████▏                    | 61kB 1.3MB/s eta 0:00:01\r\u001b[K     |█████████████                   | 71kB 1.5MB/s eta 0:00:01\r\u001b[K     |███████████████                 | 81kB 1.7MB/s eta 0:00:01\r\u001b[K     |████████████████▊               | 92kB 1.3MB/s eta 0:00:01\r\u001b[K     |██████████████████▋             | 102kB 1.4MB/s eta 0:00:01\r\u001b[K     |████████████████████▌           | 112kB 1.4MB/s eta 0:00:01\r\u001b[K     |██████████████████████▍         | 122kB 1.4MB/s eta 0:00:01\r\u001b[K     |████████████████████████▏       | 133kB 1.4MB/s eta 0:00:01\r\u001b[K     |██████████████████████████      | 143kB 1.4MB/s eta 0:00:01\r\u001b[K     |████████████████████████████    | 153kB 1.4MB/s eta 0:00:01\r\u001b[K     |█████████████████████████████▉  | 163kB 1.4MB/s eta 0:00:01\r\u001b[K     |███████████████████████████████▋| 174kB 1.4MB/s eta 0:00:01\r\u001b[K     |████████████████████████████████| 184kB 1.4MB/s \n",
            "\u001b[?25hBuilding wheels for collected packages: pympler\n",
            "  Building wheel for pympler (setup.py) ... \u001b[?25l\u001b[?25hdone\n",
            "  Created wheel for pympler: filename=Pympler-0.8-cp36-none-any.whl size=164711 sha256=f7ca5cc2e1bcae633a7d601afd4ce44b2b0c7643c1abcacd4927b5254eb703d4\n",
            "  Stored in directory: /root/.cache/pip/wheels/6c/61/cc/4bdf1e8c8b1c04d8104322eb2508b6a21d4d3a4d1b44fdd510\n",
            "Successfully built pympler\n",
            "Installing collected packages: pympler\n",
            "Successfully installed pympler-0.8\n"
          ],
          "name": "stdout"
        }
      ]
    },
    {
      "cell_type": "code",
      "metadata": {
        "id": "PihTa3EvcbXM",
        "colab_type": "code",
        "colab": {
          "base_uri": "https://localhost:8080/",
          "height": 370
        },
        "outputId": "6347893b-1a06-4382-81e0-a353184761e5"
      },
      "source": [
        "!pip install resource"
      ],
      "execution_count": 13,
      "outputs": [
        {
          "output_type": "stream",
          "text": [
            "Collecting resource\n",
            "  Downloading https://files.pythonhosted.org/packages/34/ad/9cd037c01c075f9a273c23557f8e71195d773d59d3881bbb26011d396c8b/Resource-0.2.1-py2.py3-none-any.whl\n",
            "Collecting JsonForm>=0.0.2\n",
            "  Downloading https://files.pythonhosted.org/packages/4f/b7/b9491ba4b709d0616fab15a89f8efe4d3a7924652e1fdd4f15303e9ecdf0/JsonForm-0.0.2.tar.gz\n",
            "Collecting JsonSir>=0.0.2\n",
            "  Downloading https://files.pythonhosted.org/packages/aa/bf/5c00c1dafaa3ca2c32e7641d9c2c6f9d6d76e127bde00eb600333a60c5bc/JsonSir-0.0.2.tar.gz\n",
            "Collecting python-easyconfig>=0.1.0\n",
            "  Downloading https://files.pythonhosted.org/packages/b1/86/1138081cca360a02066eedaf301d0f358c35e0e0d67572acf9d6354edca9/Python_EasyConfig-0.1.7-py2.py3-none-any.whl\n",
            "Requirement already satisfied: jsonschema in /usr/local/lib/python3.6/dist-packages (from JsonForm>=0.0.2->resource) (2.6.0)\n",
            "Requirement already satisfied: six in /usr/local/lib/python3.6/dist-packages (from python-easyconfig>=0.1.0->resource) (1.12.0)\n",
            "Requirement already satisfied: PyYAML in /usr/local/lib/python3.6/dist-packages (from python-easyconfig>=0.1.0->resource) (3.13)\n",
            "Building wheels for collected packages: JsonForm, JsonSir\n",
            "  Building wheel for JsonForm (setup.py) ... \u001b[?25l\u001b[?25hdone\n",
            "  Created wheel for JsonForm: filename=JsonForm-0.0.2-cp36-none-any.whl size=3327 sha256=c73ea83a4d56028af3ec2f401130d35cb14bbfc8c70960a5285186eef166f0a6\n",
            "  Stored in directory: /root/.cache/pip/wheels/e8/74/51/42c2d41c02bdc6f0e604476b7e4293b8c98d0bcbfa1dff78c8\n",
            "  Building wheel for JsonSir (setup.py) ... \u001b[?25l\u001b[?25hdone\n",
            "  Created wheel for JsonSir: filename=JsonSir-0.0.2-cp36-none-any.whl size=4772 sha256=f632a7551813afc0d1b4b247db98684db26d74edff4c7026d9f86d0ec5f7ffa0\n",
            "  Stored in directory: /root/.cache/pip/wheels/ee/30/5c/3a3b5e1386c8db9a3be5f5c3933644ae0533c1351c6a8eb4b5\n",
            "Successfully built JsonForm JsonSir\n",
            "Installing collected packages: JsonForm, JsonSir, python-easyconfig, resource\n",
            "Successfully installed JsonForm-0.0.2 JsonSir-0.0.2 python-easyconfig-0.1.7 resource-0.2.1\n"
          ],
          "name": "stdout"
        }
      ]
    },
    {
      "cell_type": "code",
      "metadata": {
        "id": "kchTeSzucbXY",
        "colab_type": "code",
        "colab": {
          "base_uri": "https://localhost:8080/",
          "height": 363
        },
        "outputId": "417f575e-06fa-49a3-8b7f-b6a58be8fb22"
      },
      "source": [
        "# %load mem_profile.py\n",
        "\n",
        "##############################################################\n",
        "####Dont bother oabout all this it only tell us effiecney#####\n",
        "##############################################################\n",
        "\n",
        "from pympler import summary, muppy\n",
        "import psutil\n",
        "from Resource import resource\n",
        "import os\n",
        "import sys\n",
        "\n",
        "def memory_usage_psutil():\n",
        "    # return the memory usage in MB\n",
        "    process = psutil.Process(os.getpid())\n",
        "    mem = process.get_memory_info()[0] / float(2 ** 20)\n",
        "    return mem\n",
        "\n",
        "def memory_usage_resource():\n",
        "    rusage_denom = 1024.\n",
        "    if sys.platform == 'darwin':\n",
        "        # ... it seems that in OSX the output is different units ...\n",
        "        rusage_denom = rusage_denom * rusage_denom\n",
        "    mem = Resource.getrusage(Resource.RUSAGE_SELF).ru_maxrss / rusage_denom\n",
        "    return mem\n"
      ],
      "execution_count": 16,
      "outputs": [
        {
          "output_type": "error",
          "ename": "ModuleNotFoundError",
          "evalue": "ignored",
          "traceback": [
            "\u001b[0;31m---------------------------------------------------------------------------\u001b[0m",
            "\u001b[0;31mModuleNotFoundError\u001b[0m                       Traceback (most recent call last)",
            "\u001b[0;32m<ipython-input-16-c8c020ccf4c6>\u001b[0m in \u001b[0;36m<module>\u001b[0;34m()\u001b[0m\n\u001b[1;32m      2\u001b[0m \u001b[0;32mfrom\u001b[0m \u001b[0mpympler\u001b[0m \u001b[0;32mimport\u001b[0m \u001b[0msummary\u001b[0m\u001b[0;34m,\u001b[0m \u001b[0mmuppy\u001b[0m\u001b[0;34m\u001b[0m\u001b[0;34m\u001b[0m\u001b[0m\n\u001b[1;32m      3\u001b[0m \u001b[0;32mimport\u001b[0m \u001b[0mpsutil\u001b[0m\u001b[0;34m\u001b[0m\u001b[0;34m\u001b[0m\u001b[0m\n\u001b[0;32m----> 4\u001b[0;31m \u001b[0;32mfrom\u001b[0m \u001b[0mResource\u001b[0m \u001b[0;32mimport\u001b[0m \u001b[0mresource\u001b[0m\u001b[0;34m\u001b[0m\u001b[0;34m\u001b[0m\u001b[0m\n\u001b[0m\u001b[1;32m      5\u001b[0m \u001b[0;32mimport\u001b[0m \u001b[0mos\u001b[0m\u001b[0;34m\u001b[0m\u001b[0;34m\u001b[0m\u001b[0m\n\u001b[1;32m      6\u001b[0m \u001b[0;32mimport\u001b[0m \u001b[0msys\u001b[0m\u001b[0;34m\u001b[0m\u001b[0;34m\u001b[0m\u001b[0m\n",
            "\u001b[0;31mModuleNotFoundError\u001b[0m: No module named 'Resource'",
            "",
            "\u001b[0;31m---------------------------------------------------------------------------\u001b[0;32m\nNOTE: If your import is failing due to a missing package, you can\nmanually install dependencies using either !pip or !apt.\n\nTo view examples of installing some common dependencies, click the\n\"Open Examples\" button below.\n\u001b[0;31m---------------------------------------------------------------------------\u001b[0m\n"
          ]
        }
      ]
    },
    {
      "cell_type": "code",
      "metadata": {
        "id": "uKKNtrBBcbXr",
        "colab_type": "code",
        "colab": {
          "base_uri": "https://localhost:8080/",
          "height": 363
        },
        "outputId": "c965a309-51a7-4286-e768-4165b4508d41"
      },
      "source": [
        "import mem_profile\n",
        "import random\n",
        "import time\n",
        "\n",
        "names = ['John', 'Corey', 'Adam', 'Steve', 'Rick', 'Thomas']\n",
        "majors = ['Math', 'Engineering', 'CompSci', 'Arts', 'Business']\n",
        "\n",
        "print('Memory (Before): {}Mb').format(mem_profile.memory_usage_psutil())\n",
        "\n",
        "def people_list(num_people):\n",
        "    result = []\n",
        "    for i in xrange(num_people):\n",
        "        person = {\n",
        "                    'id': i,\n",
        "                    'name': random.choice(names),\n",
        "                    'major': random.choice(majors)\n",
        "                }\n",
        "        result.append(person)\n",
        "    return result\n",
        "\n",
        "def people_generator(num_people):\n",
        "    for i in xrange(num_people):\n",
        "        person = {\n",
        "                    'id': i,\n",
        "                    'name': random.choice(names),\n",
        "                    'major': random.choice(majors)\n",
        "                }\n",
        "        yield person\n",
        "\n",
        "# t1 = time.clock()\n",
        "# people = people_list(1000000)\n",
        "# t2 = time.clock()\n",
        "\n",
        "t1 = time.clock()\n",
        "people = people_generator(1000000)\n",
        "t2 = time.clock()\n",
        "\n",
        "print (\"Memory (After) : {}Mb\").format(mem_profile.memory_usage_psutil())\n",
        "print (\"Took {} Seconds\").format(t2-t1)"
      ],
      "execution_count": 17,
      "outputs": [
        {
          "output_type": "error",
          "ename": "ModuleNotFoundError",
          "evalue": "ignored",
          "traceback": [
            "\u001b[0;31m---------------------------------------------------------------------------\u001b[0m",
            "\u001b[0;31mModuleNotFoundError\u001b[0m                       Traceback (most recent call last)",
            "\u001b[0;32m<ipython-input-17-b8bc1449c440>\u001b[0m in \u001b[0;36m<module>\u001b[0;34m()\u001b[0m\n\u001b[0;32m----> 1\u001b[0;31m \u001b[0;32mimport\u001b[0m \u001b[0mmem_profile\u001b[0m\u001b[0;34m\u001b[0m\u001b[0;34m\u001b[0m\u001b[0m\n\u001b[0m\u001b[1;32m      2\u001b[0m \u001b[0;32mimport\u001b[0m \u001b[0mrandom\u001b[0m\u001b[0;34m\u001b[0m\u001b[0;34m\u001b[0m\u001b[0m\n\u001b[1;32m      3\u001b[0m \u001b[0;32mimport\u001b[0m \u001b[0mtime\u001b[0m\u001b[0;34m\u001b[0m\u001b[0;34m\u001b[0m\u001b[0m\n\u001b[1;32m      4\u001b[0m \u001b[0;34m\u001b[0m\u001b[0m\n\u001b[1;32m      5\u001b[0m \u001b[0mnames\u001b[0m \u001b[0;34m=\u001b[0m \u001b[0;34m[\u001b[0m\u001b[0;34m'John'\u001b[0m\u001b[0;34m,\u001b[0m \u001b[0;34m'Corey'\u001b[0m\u001b[0;34m,\u001b[0m \u001b[0;34m'Adam'\u001b[0m\u001b[0;34m,\u001b[0m \u001b[0;34m'Steve'\u001b[0m\u001b[0;34m,\u001b[0m \u001b[0;34m'Rick'\u001b[0m\u001b[0;34m,\u001b[0m \u001b[0;34m'Thomas'\u001b[0m\u001b[0;34m]\u001b[0m\u001b[0;34m\u001b[0m\u001b[0;34m\u001b[0m\u001b[0m\n",
            "\u001b[0;31mModuleNotFoundError\u001b[0m: No module named 'mem_profile'",
            "",
            "\u001b[0;31m---------------------------------------------------------------------------\u001b[0;32m\nNOTE: If your import is failing due to a missing package, you can\nmanually install dependencies using either !pip or !apt.\n\nTo view examples of installing some common dependencies, click the\n\"Open Examples\" button below.\n\u001b[0;31m---------------------------------------------------------------------------\u001b[0m\n"
          ]
        }
      ]
    }
  ]
}